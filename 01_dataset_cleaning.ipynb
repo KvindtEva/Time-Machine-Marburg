{
 "cells": [
  {
   "cell_type": "markdown",
   "metadata": {},
   "source": [
    "### Step-by-step preprocessing of `dataset_ORIG.csv`\n",
    "\n",
    "`dataset_ORIG` is an original file with no alterations which Prof. Bell sent us. This file was dirty, so I had to manualy clean it through Excel interface and regular expressions  \n",
    "`dataset_UNICODE.txt` original dataset in tabular unicode format  \n",
    "`dataset_RIGHT_SEPARATORS.csv` is a dataset with correctly preproccesed separators, but without some rows, which were cut during preprocessing  \n",
    "`dataset_CLEAN.csv` is a cleaned dataset for further investigation, image downloading etc.\n",
    "\n",
    "1. `dataset_ORIG` saved as textual unicode file in `dataset_UNICODE.txt`\n",
    "2. `dataset_UNICODE.txt` preproccesed in a right way with semicolons and tabulation (see below) and saved to `dataset_RIGHT_SEPARATORS.csv`\n",
    "3. Row 8058 and 29105 manualy correceted (shifted textual description) Rows 5698 and 8359 are splited in two\n",
    "4. Rows 5698 and 5360 are splited in two\n",
    "5. Column H and I is cleaned (there were some extra comas)\n",
    "6. Rows 9062-9071 and 23106-23112 are cut and saved to `data_rest`, because there was a mistake during parsing\n",
    "7. Empty rows in `identification labels` removed with `NO_LABEL` (7 pcs)\n",
    "`dataset_RIGHT_SEPARATORS.csv` is saved and opened in code as a DataFrame\n",
    "8. `data_rest` saved into 2 files `sample9060.txt` and `sample23104.txt` (if want to repeat this step, be careful, because during the parsing some symbols on the end of each new cells were missed).\n",
    "9. `sample9060.txt` and `sample23104.txt` are storage with tabulat separators. They are inserted back to our DataFrame and saved in `dataset_CLEAN.csv`\n"
   ]
  },
  {
   "cell_type": "code",
   "execution_count": 2,
   "metadata": {},
   "outputs": [],
   "source": [
    "import pandas as pd\n",
    "import requests\n",
    "import re\n",
    "import numpy as np\n"
   ]
  },
  {
   "cell_type": "code",
   "execution_count": 2,
   "metadata": {},
   "outputs": [],
   "source": [
    "# file_name = 'datasets/raw/dataset_UNICODE.txt'\n",
    "\n",
    "# with open(file_name, 'r', encoding='utf-16') as file:\n",
    "#     text = file.read()"
   ]
  },
  {
   "cell_type": "code",
   "execution_count": 214,
   "metadata": {},
   "outputs": [],
   "source": [
    "# # Saving first line of columns names\n",
    "# _ = text[:200]\n",
    "# buf = text[200:]"
   ]
  },
  {
   "cell_type": "code",
   "execution_count": 215,
   "metadata": {},
   "outputs": [],
   "source": [
    "# # test = '04101\\t\"\"\"Hanau\"\\t E         me\\t\" Situationsplan\"\"\"\\t\"[\"\"http         1677792\\tMehlkasten\\t\"[\"\"http:/      Täufers\\t Taufe Christi\\t Ent'\n",
    "# # test = 'and (1751); Muse      1898;1892    '\n",
    "# # buf = test\n",
    "\n",
    "# # Replace separator '\\t' to ';'\n",
    "# buf = buf.replace('\\t', ';')\n",
    "# _ = _.replace('\\t', ';')\n",
    "\n",
    "# # Replace ';' with 'SEMICOLONS', which are not separators \n",
    "# buf = re.sub(r'(?<=[a-zA-Z]);(?=\\w)', r'SEMICOLON', buf)\n",
    "# buf = re.sub(r'(?<=\\w);(?=\\s)', r'SEMICOLON', buf)\n",
    "\n",
    "# # All this rules are taken from investigating different cases of semicolons in the text (trial and error)\n",
    "# buf = re.sub(r'(?<=\");(?=\\s)', r'SEMICOLON', buf)\n",
    "# buf = re.sub(r'(?<=[a-zA-Z]);(?=(\"\\w))', r'SEMICOLON', buf)\n",
    "# buf = re.sub(r'(?<=[a-zA-Z]);(?=(\"\\s))', r'SEMICOLON', buf)\n",
    "\n",
    "# buf = re.sub(r'(?<=\\));(?=\\s)', r'SEMICOLON', buf)\n",
    "# buf = re.sub(r'(?<=\\d);(?=\\d)', r'SEMICOLON', buf)\n",
    "# buf = re.sub(r'(?<=\\s);(?=\\s)', r'SEMICOLON', buf)\n",
    "# buf = re.sub(r'(?<=\\s\");(?=\"\\s)', r'SEMICOLON', buf)\n",
    "\n",
    "\n",
    "# # Add first line with columns names back\n",
    "# buf = _ + buf\n"
   ]
  },
  {
   "cell_type": "markdown",
   "metadata": {},
   "source": [
    "\\*here should be a cell with saving above information into `dataset_RIGHT_SEPARATORS.csv`. In case of data safety I cut it\\*"
   ]
  },
  {
   "cell_type": "markdown",
   "metadata": {},
   "source": [
    "\\*here some manual alterations for `dataset_RIGHT_SEPARATORS.csv`, which are described above (3.-7.), were done\\*"
   ]
  },
  {
   "cell_type": "code",
   "execution_count": 216,
   "metadata": {},
   "outputs": [
    {
     "name": "stdout",
     "output_type": "stream",
     "text": [
      "(38198, 7)\n"
     ]
    },
    {
     "data": {
      "text/html": [
       "<div>\n",
       "<style scoped>\n",
       "    .dataframe tbody tr th:only-of-type {\n",
       "        vertical-align: middle;\n",
       "    }\n",
       "\n",
       "    .dataframe tbody tr th {\n",
       "        vertical-align: top;\n",
       "    }\n",
       "\n",
       "    .dataframe thead th {\n",
       "        text-align: right;\n",
       "    }\n",
       "</style>\n",
       "<table border=\"1\" class=\"dataframe\">\n",
       "  <thead>\n",
       "    <tr style=\"text-align: right;\">\n",
       "      <th></th>\n",
       "      <th>record identifiers</th>\n",
       "      <th>persistent identifier</th>\n",
       "      <th>identification labels</th>\n",
       "      <th>digital images/downloads (files)</th>\n",
       "      <th>digital images/archival description</th>\n",
       "      <th>microfiche/downloads (files)</th>\n",
       "      <th>microfiche/archival description</th>\n",
       "    </tr>\n",
       "  </thead>\n",
       "  <tbody>\n",
       "    <tr>\n",
       "      <th>0</th>\n",
       "      <td>http://www.bildindex.de/document/obj20666124</td>\n",
       "      <td>http://id.bildindex.de/thing/0001618283</td>\n",
       "      <td>Lauenhain (Kreis Hainichen), Fahnenträger eine...</td>\n",
       "      <td>[]</td>\n",
       "      <td>[]</td>\n",
       "      <td>[\"http://www.bildindex.de/bilder/d/mi12308g07\"]</td>\n",
       "      <td>[\"https://www.bildindex.de/media/obj20666124/m...</td>\n",
       "    </tr>\n",
       "    <tr>\n",
       "      <th>1</th>\n",
       "      <td>http://www.bildindex.de/document/obj20727600</td>\n",
       "      <td>http://id.bildindex.de/thing/0001677732</td>\n",
       "      <td>Fenster (Bauelement)</td>\n",
       "      <td>[\"http://www.bildindex.de/bilder/d/fm140030\"]</td>\n",
       "      <td>[\"https://www.bildindex.de/media/obj20727600/f...</td>\n",
       "      <td>[\"http://www.bildindex.de/bilder/d/mi02117a05\"...</td>\n",
       "      <td>[\"https://www.bildindex.de/media/obj20727600/m...</td>\n",
       "    </tr>\n",
       "    <tr>\n",
       "      <th>2</th>\n",
       "      <td>http://www.bildindex.de/document/obj20943303</td>\n",
       "      <td>http://id.bildindex.de/thing/0001803584</td>\n",
       "      <td>Kassel, Infanteriekasernen an der Königsstraße...</td>\n",
       "      <td>[\"http://www.bildindex.de/bilder/d/STMP_II_110...</td>\n",
       "      <td>[\"https://www.bildindex.de/media/obj20943303/S...</td>\n",
       "      <td>[]</td>\n",
       "      <td>[]</td>\n",
       "    </tr>\n",
       "    <tr>\n",
       "      <th>3</th>\n",
       "      <td>http://www.bildindex.de/document/obj20948462</td>\n",
       "      <td>http://id.bildindex.de/thing/0001806337</td>\n",
       "      <td>Waldeck, Domäne, Wohnhaus, Umbauentwurf, Aufrisse</td>\n",
       "      <td>[\"http://www.bildindex.de/bilder/d/STMP_II_156...</td>\n",
       "      <td>[\"https://www.bildindex.de/media/obj20948462/S...</td>\n",
       "      <td>[]</td>\n",
       "      <td>[]</td>\n",
       "    </tr>\n",
       "    <tr>\n",
       "      <th>4</th>\n",
       "      <td>http://www.bildindex.de/document/obj20943569</td>\n",
       "      <td>http://id.bildindex.de/thing/0001803733</td>\n",
       "      <td>Kassel, Opernhaus (Altes Hoftheater), Aborte i...</td>\n",
       "      <td>[\"http://www.bildindex.de/bilder/d/STMP_II_138...</td>\n",
       "      <td>[\"https://www.bildindex.de/media/obj20943569/S...</td>\n",
       "      <td>[]</td>\n",
       "      <td>[]</td>\n",
       "    </tr>\n",
       "  </tbody>\n",
       "</table>\n",
       "</div>"
      ],
      "text/plain": [
       "                             record identifiers  \\\n",
       "0  http://www.bildindex.de/document/obj20666124   \n",
       "1  http://www.bildindex.de/document/obj20727600   \n",
       "2  http://www.bildindex.de/document/obj20943303   \n",
       "3  http://www.bildindex.de/document/obj20948462   \n",
       "4  http://www.bildindex.de/document/obj20943569   \n",
       "\n",
       "                     persistent identifier  \\\n",
       "0  http://id.bildindex.de/thing/0001618283   \n",
       "1  http://id.bildindex.de/thing/0001677732   \n",
       "2  http://id.bildindex.de/thing/0001803584   \n",
       "3  http://id.bildindex.de/thing/0001806337   \n",
       "4  http://id.bildindex.de/thing/0001803733   \n",
       "\n",
       "                               identification labels  \\\n",
       "0  Lauenhain (Kreis Hainichen), Fahnenträger eine...   \n",
       "1                               Fenster (Bauelement)   \n",
       "2  Kassel, Infanteriekasernen an der Königsstraße...   \n",
       "3  Waldeck, Domäne, Wohnhaus, Umbauentwurf, Aufrisse   \n",
       "4  Kassel, Opernhaus (Altes Hoftheater), Aborte i...   \n",
       "\n",
       "                    digital images/downloads (files)  \\\n",
       "0                                                 []   \n",
       "1      [\"http://www.bildindex.de/bilder/d/fm140030\"]   \n",
       "2  [\"http://www.bildindex.de/bilder/d/STMP_II_110...   \n",
       "3  [\"http://www.bildindex.de/bilder/d/STMP_II_156...   \n",
       "4  [\"http://www.bildindex.de/bilder/d/STMP_II_138...   \n",
       "\n",
       "                 digital images/archival description  \\\n",
       "0                                                 []   \n",
       "1  [\"https://www.bildindex.de/media/obj20727600/f...   \n",
       "2  [\"https://www.bildindex.de/media/obj20943303/S...   \n",
       "3  [\"https://www.bildindex.de/media/obj20948462/S...   \n",
       "4  [\"https://www.bildindex.de/media/obj20943569/S...   \n",
       "\n",
       "                        microfiche/downloads (files)  \\\n",
       "0    [\"http://www.bildindex.de/bilder/d/mi12308g07\"]   \n",
       "1  [\"http://www.bildindex.de/bilder/d/mi02117a05\"...   \n",
       "2                                                 []   \n",
       "3                                                 []   \n",
       "4                                                 []   \n",
       "\n",
       "                     microfiche/archival description  \n",
       "0  [\"https://www.bildindex.de/media/obj20666124/m...  \n",
       "1  [\"https://www.bildindex.de/media/obj20727600/m...  \n",
       "2                                                 []  \n",
       "3                                                 []  \n",
       "4                                                 []  "
      ]
     },
     "execution_count": 216,
     "metadata": {},
     "output_type": "execute_result"
    }
   ],
   "source": [
    "file_name = 'datasets/raw/dataset_RIGHT_SEPARATORS.csv'\n",
    "df = pd.read_csv(file_name, sep=';', encoding='utf-8')\n",
    "\n",
    "print(df.shape)\n",
    "df.head()"
   ]
  },
  {
   "cell_type": "markdown",
   "metadata": {},
   "source": [
    "Insert `data_rest` (`sample9060.txt` and `sample23104.txt`) into out DataFrame\n",
    "The `sampleN.txt` looks as following: `VALUE_COLUMN1\\tVALUE_COLUMN2\\t...` "
   ]
  },
  {
   "cell_type": "code",
   "execution_count": 217,
   "metadata": {},
   "outputs": [
    {
     "name": "stdout",
     "output_type": "stream",
     "text": [
      "(38200, 7)\n"
     ]
    },
    {
     "data": {
      "text/html": [
       "<div>\n",
       "<style scoped>\n",
       "    .dataframe tbody tr th:only-of-type {\n",
       "        vertical-align: middle;\n",
       "    }\n",
       "\n",
       "    .dataframe tbody tr th {\n",
       "        vertical-align: top;\n",
       "    }\n",
       "\n",
       "    .dataframe thead th {\n",
       "        text-align: right;\n",
       "    }\n",
       "</style>\n",
       "<table border=\"1\" class=\"dataframe\">\n",
       "  <thead>\n",
       "    <tr style=\"text-align: right;\">\n",
       "      <th></th>\n",
       "      <th>record identifiers</th>\n",
       "      <th>persistent identifier</th>\n",
       "      <th>identification labels</th>\n",
       "      <th>digital images/downloads (files)</th>\n",
       "      <th>digital images/archival description</th>\n",
       "      <th>microfiche/downloads (files)</th>\n",
       "      <th>microfiche/archival description</th>\n",
       "    </tr>\n",
       "  </thead>\n",
       "  <tbody>\n",
       "    <tr>\n",
       "      <th>38195</th>\n",
       "      <td>http://www.bildindex.de/document/obj20513158</td>\n",
       "      <td>http://id.bildindex.de/thing/0001532642</td>\n",
       "      <td>Feuerwehr, Fuhrwerk</td>\n",
       "      <td>[]</td>\n",
       "      <td>[]</td>\n",
       "      <td>[\"http://www.bildindex.de/bilder/d/mi03503f13\"]</td>\n",
       "      <td>[\"https://www.bildindex.de/media/obj20513158/m...</td>\n",
       "    </tr>\n",
       "    <tr>\n",
       "      <th>38196</th>\n",
       "      <td>http://www.bildindex.de/document/obj20649251</td>\n",
       "      <td>http://id.bildindex.de/thing/0001603218</td>\n",
       "      <td>WohnhausWerkstatt</td>\n",
       "      <td>[]</td>\n",
       "      <td>[]</td>\n",
       "      <td>[\"http://www.bildindex.de/bilder/d/mi02064e13\"]</td>\n",
       "      <td>[\"https://www.bildindex.de/media/obj20649251/m...</td>\n",
       "    </tr>\n",
       "    <tr>\n",
       "      <th>38197</th>\n",
       "      <td>http://www.bildindex.de/document/obj20948628</td>\n",
       "      <td>http://id.bildindex.de/thing/0001806486</td>\n",
       "      <td>Kassel-Wilhelmshöhe, Hofgärtnerhaus, Bauaufnah...</td>\n",
       "      <td>[\"http://www.bildindex.de/bilder/d/STM300_P_II...</td>\n",
       "      <td>[\"https://www.bildindex.de/media/obj20948628/S...</td>\n",
       "      <td>[]</td>\n",
       "      <td>[]</td>\n",
       "    </tr>\n",
       "    <tr>\n",
       "      <th>38198</th>\n",
       "      <td>http://www.bildindex.de/document/obj20269517</td>\n",
       "      <td>http://id.bildindex.de/thing/0001350452</td>\n",
       "      <td>Landgrafenschloss</td>\n",
       "      <td>[\"http://www.bildindex.de/bilder/d/fmd10037715...</td>\n",
       "      <td>[\"https://www.bildindex.de/media/obj20269517/f...</td>\n",
       "      <td>[\"http://www.bildindex.de/bilder/d/mi12610g03\"...</td>\n",
       "      <td>[\"https://www.bildindex.de/media/obj20269517/m...</td>\n",
       "    </tr>\n",
       "    <tr>\n",
       "      <th>38199</th>\n",
       "      <td>http://www.bildindex.de/document/obj20131084</td>\n",
       "      <td>http://id.bildindex.de/thing/0001267446</td>\n",
       "      <td>Konvolut nicht erschlossener Negative des Foto...</td>\n",
       "      <td>[\"http://www.bildindex.de/bilder/d/fm810002\" \"...</td>\n",
       "      <td>\"[\"https://www.bildindex.de/media/obj20131084/...</td>\n",
       "      <td>[\"http://www.bildindex.de/bilder/d/mi02508e12\"...</td>\n",
       "      <td>[\"https://www.bildindex.de/media/obj20131084/m...</td>\n",
       "    </tr>\n",
       "  </tbody>\n",
       "</table>\n",
       "</div>"
      ],
      "text/plain": [
       "                                 record identifiers  \\\n",
       "38195  http://www.bildindex.de/document/obj20513158   \n",
       "38196  http://www.bildindex.de/document/obj20649251   \n",
       "38197  http://www.bildindex.de/document/obj20948628   \n",
       "38198  http://www.bildindex.de/document/obj20269517   \n",
       "38199  http://www.bildindex.de/document/obj20131084   \n",
       "\n",
       "                         persistent identifier  \\\n",
       "38195  http://id.bildindex.de/thing/0001532642   \n",
       "38196  http://id.bildindex.de/thing/0001603218   \n",
       "38197  http://id.bildindex.de/thing/0001806486   \n",
       "38198  http://id.bildindex.de/thing/0001350452   \n",
       "38199  http://id.bildindex.de/thing/0001267446   \n",
       "\n",
       "                                   identification labels  \\\n",
       "38195                                Feuerwehr, Fuhrwerk   \n",
       "38196                                  WohnhausWerkstatt   \n",
       "38197  Kassel-Wilhelmshöhe, Hofgärtnerhaus, Bauaufnah...   \n",
       "38198                                  Landgrafenschloss   \n",
       "38199  Konvolut nicht erschlossener Negative des Foto...   \n",
       "\n",
       "                        digital images/downloads (files)  \\\n",
       "38195                                                 []   \n",
       "38196                                                 []   \n",
       "38197  [\"http://www.bildindex.de/bilder/d/STM300_P_II...   \n",
       "38198  [\"http://www.bildindex.de/bilder/d/fmd10037715...   \n",
       "38199  [\"http://www.bildindex.de/bilder/d/fm810002\" \"...   \n",
       "\n",
       "                     digital images/archival description  \\\n",
       "38195                                                 []   \n",
       "38196                                                 []   \n",
       "38197  [\"https://www.bildindex.de/media/obj20948628/S...   \n",
       "38198  [\"https://www.bildindex.de/media/obj20269517/f...   \n",
       "38199  \"[\"https://www.bildindex.de/media/obj20131084/...   \n",
       "\n",
       "                            microfiche/downloads (files)  \\\n",
       "38195    [\"http://www.bildindex.de/bilder/d/mi03503f13\"]   \n",
       "38196    [\"http://www.bildindex.de/bilder/d/mi02064e13\"]   \n",
       "38197                                                 []   \n",
       "38198  [\"http://www.bildindex.de/bilder/d/mi12610g03\"...   \n",
       "38199  [\"http://www.bildindex.de/bilder/d/mi02508e12\"...   \n",
       "\n",
       "                         microfiche/archival description  \n",
       "38195  [\"https://www.bildindex.de/media/obj20513158/m...  \n",
       "38196  [\"https://www.bildindex.de/media/obj20649251/m...  \n",
       "38197                                                 []  \n",
       "38198  [\"https://www.bildindex.de/media/obj20269517/m...  \n",
       "38199  [\"https://www.bildindex.de/media/obj20131084/m...  "
      ]
     },
     "execution_count": 217,
     "metadata": {},
     "output_type": "execute_result"
    }
   ],
   "source": [
    "sample_nums = [9060, 23104]\n",
    "\n",
    "for sample_num in sample_nums:\n",
    "    file_name = f'datasets/sample{sample_num}.txt'\n",
    "\n",
    "    with open(file_name, 'r', encoding='utf-8') as file:\n",
    "        sample = file.read().split('\\t')\n",
    "\n",
    "    for i in range(3, len(sample)):\n",
    "        sample[i] = re.sub(r'\"\"?\"', '\"', sample[i])\n",
    "\n",
    "    df.loc[len(df.index)] = sample\n",
    "    \n",
    "print(df.shape)\n",
    "df.tail()"
   ]
  },
  {
   "cell_type": "markdown",
   "metadata": {},
   "source": [
    "Rename columns"
   ]
  },
  {
   "cell_type": "code",
   "execution_count": 218,
   "metadata": {},
   "outputs": [],
   "source": [
    "df = df.rename(columns={\n",
    "    'record identifiers': 'id_record',\n",
    "    'persistent identifier': 'id_persistent',\n",
    "    'identification labels': 'label',\n",
    "    'digital images/downloads (files)': 'image_links',\n",
    "    'digital images/archival description': 'archive_links',\n",
    "    'microfiche/downloads (files)': 'microfiche_links',\n",
    "    'microfiche/archival description': 'microfiche_archive_links',\n",
    "})\n",
    "\n",
    "columns = df.columns"
   ]
  },
  {
   "cell_type": "markdown",
   "metadata": {},
   "source": [
    "Replace 'SEMICOLON' in textual description back to semicolons.  \n",
    "*Update:* after an image downloading it turned out, that some labels turned out to be in id_persistent after 'SEMICOLON'. Here we are resolving this problem. These areindexes of failed rows:"
   ]
  },
  {
   "cell_type": "code",
   "execution_count": 219,
   "metadata": {},
   "outputs": [],
   "source": [
    "failed = [2738,2833,2847,2867,2879,3902,4503,4515,4704,4705,4706,4707,4708,6813,6833,6852,7417,7436,\n",
    "           7437,7773,7790,7810,7825,7867,7887,7901,7939,8768,15582,15609,15635,16212,16394,19890,20550,\n",
    "           20573,23439,23452,23466,23479,26581,30613,34969,34983]\n",
    "\n",
    "super_case = 29093"
   ]
  },
  {
   "cell_type": "code",
   "execution_count": 220,
   "metadata": {},
   "outputs": [],
   "source": [
    "for i in failed:\n",
    "    splited = df.iloc[i].id_persistent.split('SEMICOLON')\n",
    "    df.iloc[i][columns[3:]] = df.iloc[i][columns[2:6]]\n",
    "    df.iloc[i].id_persistent = splited[0]\n",
    "    df.iloc[i].label = splited[1]"
   ]
  },
  {
   "cell_type": "code",
   "execution_count": 221,
   "metadata": {},
   "outputs": [
    {
     "name": "stdout",
     "output_type": "stream",
     "text": [
      "id_record \t http://www.bildindex.de/document/obj20941518\n",
      "id_persistent \t http://id.bildindex.de/thing/0001802477\n",
      "label \t \"Fulda \"\"Vicarygarten\"\" mit Pavillon und BrunnenSEMICOLON BestandsaufnahmeSEMICOLON\" Lageplan und Vogelperspektive\"\"\"\n",
      "image_links \t nan\n",
      "archive_links \t [\"http://www.bildindex.de/bilder/d/STMP_II_10167_r\" \"http://www.bildindex.de/bilder/d/STMP_II_10167_v\"]\n",
      "microfiche_links \t [\"https://www.bildindex.de/media/obj20941518/STMP_II_10167_r\" \"https://www.bildindex.de/media/obj20941518/STMP_II_10167_v\"]\n",
      "microfiche_archive_links \t []\n"
     ]
    }
   ],
   "source": [
    "for k, i in enumerate(df.iloc[super_case]):\n",
    "    print(columns[k],'\\t', i)"
   ]
  },
  {
   "cell_type": "markdown",
   "metadata": {},
   "source": [
    "For this `super_case` last 4 columns were shifted. Change this:"
   ]
  },
  {
   "cell_type": "code",
   "execution_count": 222,
   "metadata": {},
   "outputs": [],
   "source": [
    "super_cases = list(df[(df.microfiche_links != '[]') & (df.microfiche_archive_links == '[]')].index)\n",
    "\n",
    "for i in super_cases:\n",
    "    df.iloc[i][columns[3:5]] = df.iloc[i][columns[4:6]]\n",
    "    df.iloc[i][columns[5:]] = ['[]', '[]']\n",
    "\n"
   ]
  },
  {
   "cell_type": "code",
   "execution_count": 223,
   "metadata": {},
   "outputs": [],
   "source": [
    "df.label = df.label.str.replace('SEMICOLON', ';')"
   ]
  },
  {
   "cell_type": "markdown",
   "metadata": {},
   "source": [
    "Save objects with no images and scans to `instances_no_images.csv` file and delete it from further considering"
   ]
  },
  {
   "cell_type": "code",
   "execution_count": 224,
   "metadata": {},
   "outputs": [
    {
     "name": "stdout",
     "output_type": "stream",
     "text": [
      "Instances with no images: 3488\n"
     ]
    }
   ],
   "source": [
    "instances_no_images = df[(df['image_links'] == '[]') & (df['microfiche_links'] == '[]')]\n",
    "print(f'Instances with no images: {instances_no_images.shape[0]}')\n",
    "instances_no_images.to_csv('datasets/production/instances_no_images.csv', sep=';', index=False, encoding='utf-8')"
   ]
  },
  {
   "cell_type": "code",
   "execution_count": 225,
   "metadata": {},
   "outputs": [],
   "source": [
    "df = df[(df['image_links'] != '[]') | (df['microfiche_links'] != '[]')]"
   ]
  },
  {
   "cell_type": "markdown",
   "metadata": {},
   "source": [
    "There are some missing values in `id_persistent`. Basically id_persistent is equal to id_record with ?part=N in the end, which points out on the ordinal number of object"
   ]
  },
  {
   "cell_type": "code",
   "execution_count": 226,
   "metadata": {},
   "outputs": [
    {
     "name": "stdout",
     "output_type": "stream",
     "text": [
      "Missing values in id_peristent: 7\n"
     ]
    }
   ],
   "source": [
    "_ = len(df[df['id_persistent'].isna()])\n",
    "print(f'Missing values in id_peristent: {_}')"
   ]
  },
  {
   "cell_type": "code",
   "execution_count": 227,
   "metadata": {},
   "outputs": [
    {
     "name": "stdout",
     "output_type": "stream",
     "text": [
      "1\n",
      "1\n",
      "1\n",
      "1\n",
      "1\n",
      "1\n",
      "1\n"
     ]
    }
   ],
   "source": [
    "# Here we check, that those objects with missing values in id_persistent have unique id_record\n",
    "# Therefore we can substitute them with id_record + '?part=0'\n",
    "missing_values_idrecords = df[df['id_persistent'].isna()].id_record\n",
    "for id_rec in missing_values_idrecords:\n",
    "    print(len(df[df.id_record == id_rec]))"
   ]
  },
  {
   "cell_type": "code",
   "execution_count": 228,
   "metadata": {},
   "outputs": [
    {
     "data": {
      "text/html": [
       "<div>\n",
       "<style scoped>\n",
       "    .dataframe tbody tr th:only-of-type {\n",
       "        vertical-align: middle;\n",
       "    }\n",
       "\n",
       "    .dataframe tbody tr th {\n",
       "        vertical-align: top;\n",
       "    }\n",
       "\n",
       "    .dataframe thead th {\n",
       "        text-align: right;\n",
       "    }\n",
       "</style>\n",
       "<table border=\"1\" class=\"dataframe\">\n",
       "  <thead>\n",
       "    <tr style=\"text-align: right;\">\n",
       "      <th></th>\n",
       "      <th>id_record</th>\n",
       "      <th>id_persistent</th>\n",
       "      <th>label</th>\n",
       "      <th>image_links</th>\n",
       "      <th>archive_links</th>\n",
       "      <th>microfiche_links</th>\n",
       "      <th>microfiche_archive_links</th>\n",
       "    </tr>\n",
       "  </thead>\n",
       "  <tbody>\n",
       "  </tbody>\n",
       "</table>\n",
       "</div>"
      ],
      "text/plain": [
       "Empty DataFrame\n",
       "Columns: [id_record, id_persistent, label, image_links, archive_links, microfiche_links, microfiche_archive_links]\n",
       "Index: []"
      ]
     },
     "execution_count": 228,
     "metadata": {},
     "output_type": "execute_result"
    }
   ],
   "source": [
    "df.loc[df['id_persistent'].isna(), 'id_persistent']= df['id_record'] + '?part=0'\n",
    "df[df['id_persistent'].isna()]"
   ]
  },
  {
   "cell_type": "code",
   "execution_count": 229,
   "metadata": {},
   "outputs": [
    {
     "data": {
      "text/html": [
       "<div>\n",
       "<style scoped>\n",
       "    .dataframe tbody tr th:only-of-type {\n",
       "        vertical-align: middle;\n",
       "    }\n",
       "\n",
       "    .dataframe tbody tr th {\n",
       "        vertical-align: top;\n",
       "    }\n",
       "\n",
       "    .dataframe thead th {\n",
       "        text-align: right;\n",
       "    }\n",
       "</style>\n",
       "<table border=\"1\" class=\"dataframe\">\n",
       "  <thead>\n",
       "    <tr style=\"text-align: right;\">\n",
       "      <th></th>\n",
       "      <th>id_record</th>\n",
       "      <th>id_persistent</th>\n",
       "      <th>label</th>\n",
       "      <th>image_links</th>\n",
       "      <th>archive_links</th>\n",
       "      <th>microfiche_links</th>\n",
       "      <th>microfiche_archive_links</th>\n",
       "    </tr>\n",
       "  </thead>\n",
       "  <tbody>\n",
       "  </tbody>\n",
       "</table>\n",
       "</div>"
      ],
      "text/plain": [
       "Empty DataFrame\n",
       "Columns: [id_record, id_persistent, label, image_links, archive_links, microfiche_links, microfiche_archive_links]\n",
       "Index: []"
      ]
     },
     "execution_count": 229,
     "metadata": {},
     "output_type": "execute_result"
    }
   ],
   "source": [
    "df[df['id_record'].isna()]"
   ]
  },
  {
   "cell_type": "code",
   "execution_count": 230,
   "metadata": {},
   "outputs": [
    {
     "data": {
      "text/html": [
       "<div>\n",
       "<style scoped>\n",
       "    .dataframe tbody tr th:only-of-type {\n",
       "        vertical-align: middle;\n",
       "    }\n",
       "\n",
       "    .dataframe tbody tr th {\n",
       "        vertical-align: top;\n",
       "    }\n",
       "\n",
       "    .dataframe thead th {\n",
       "        text-align: right;\n",
       "    }\n",
       "</style>\n",
       "<table border=\"1\" class=\"dataframe\">\n",
       "  <thead>\n",
       "    <tr style=\"text-align: right;\">\n",
       "      <th></th>\n",
       "      <th>id_record</th>\n",
       "      <th>id_persistent</th>\n",
       "      <th>label</th>\n",
       "      <th>image_links</th>\n",
       "      <th>archive_links</th>\n",
       "      <th>microfiche_links</th>\n",
       "      <th>microfiche_archive_links</th>\n",
       "    </tr>\n",
       "  </thead>\n",
       "  <tbody>\n",
       "  </tbody>\n",
       "</table>\n",
       "</div>"
      ],
      "text/plain": [
       "Empty DataFrame\n",
       "Columns: [id_record, id_persistent, label, image_links, archive_links, microfiche_links, microfiche_archive_links]\n",
       "Index: []"
      ]
     },
     "execution_count": 230,
     "metadata": {},
     "output_type": "execute_result"
    }
   ],
   "source": [
    "df[df['label'].isna()]"
   ]
  },
  {
   "cell_type": "markdown",
   "metadata": {},
   "source": [
    "In our data set all link are storage in a format [\"LINK1\" \"LINK2\" ... \"LINK3\"]. Let's convert to list of strings"
   ]
  },
  {
   "cell_type": "code",
   "execution_count": 231,
   "metadata": {},
   "outputs": [],
   "source": [
    "replace_char = df.image_links[0]\n",
    "for c in columns[3:]:\n",
    "   df[c].fillna(replace_char, inplace=True)"
   ]
  },
  {
   "cell_type": "code",
   "execution_count": 232,
   "metadata": {},
   "outputs": [
    {
     "name": "stdout",
     "output_type": "stream",
     "text": [
      "Missing values:\n",
      "0 id_record\n",
      "0 id_persistent\n",
      "0 label\n",
      "0 image_links\n",
      "0 archive_links\n",
      "0 microfiche_links\n",
      "0 microfiche_archive_links\n"
     ]
    }
   ],
   "source": [
    "print('Missing values:')\n",
    "for column in columns:\n",
    "    print(f'{df[df[column].isna()].shape[0]} {column}')"
   ]
  },
  {
   "cell_type": "code",
   "execution_count": null,
   "metadata": {},
   "outputs": [],
   "source": [
    "# Takes ~20 sec\n",
    "for i in df.index:\n",
    "    for column in columns[3:]:\n",
    "        if df.loc[i, column] != '[]':\n",
    "            df.at[i, column] =  df.loc[i, column][2:-2].split('\" \"')\n"
   ]
  },
  {
   "cell_type": "code",
   "execution_count": 202,
   "metadata": {},
   "outputs": [],
   "source": [
    "df.at[38199, 'image_links'][-1] = df.at[38199, 'image_links'][-1][:-1]\n",
    "df.at[38198, 'image_links'][-1] = df.at[38198, 'image_links'][-1][:-1]"
   ]
  },
  {
   "cell_type": "code",
   "execution_count": null,
   "metadata": {},
   "outputs": [],
   "source": [
    "# # # df.to_csv('datasets/production/dataset_CLEAN.csv', sep=';', index=False, encoding='utf-8')"
   ]
  },
  {
   "cell_type": "markdown",
   "metadata": {},
   "source": [
    "### Dataset understanding\n",
    "\n",
    "| Column Name               | Type        | UNIQUE      | Description |\n",
    "| -----------               | ----------- | ----------- | ----------- |\n",
    "| `record identifiers`      | LINK        | NO          | A link to an object (e.g. set of papers of a book)       |\n",
    "| `persistent identifier`   | LINK        | YES         | A link to an subobject of an object (e.g. one sheet of paper from this book). Sometimes is similar to `record identifiers`       |\n",
    "| `identification labels`   | TEXT        | NO          |A label, text description |\n",
    "| `digital images/downloads (files)`   | SET OF LINKS        | PROBABLY          |A set of links to download all coresponding images to this subobject (e.g. all sides of this sheet of paper in each link) |\n",
    "| `digital images/archival description`   | LINK        | PROBABLY          |A link to another page in archive ??? |\n",
    "| `microfiche/downloads (files)`   | SET OF LINKS        | PROBABLY          |A link to download pictures from archive. Probably there are scans of original objects, books, photos of sculptures with metadate on them. Could be used as a style transfer and metadata resourse, if it is not in the `identification labels` column |\n",
    "| `microfiche/archival description`   | LINK        | PROBABLY          |Links to another archive |\n",
    "\n",
    "<img src=\"config/pics/dataset logic.jpg\" width=\"500\">\n"
   ]
  },
  {
   "cell_type": "markdown",
   "metadata": {},
   "source": []
  },
  {
   "cell_type": "markdown",
   "metadata": {},
   "source": [
    "## "
   ]
  }
 ],
 "metadata": {
  "kernelspec": {
   "display_name": "Python 3",
   "language": "python",
   "name": "python3"
  },
  "language_info": {
   "codemirror_mode": {
    "name": "ipython",
    "version": 3
   },
   "file_extension": ".py",
   "mimetype": "text/x-python",
   "name": "python",
   "nbconvert_exporter": "python",
   "pygments_lexer": "ipython3",
   "version": "3.9.6"
  }
 },
 "nbformat": 4,
 "nbformat_minor": 2
}
