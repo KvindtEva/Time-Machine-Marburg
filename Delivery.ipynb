{
 "cells": [
  {
   "cell_type": "markdown",
   "metadata": {},
   "source": [
    "# Delivery\n",
    "Here we will save the last version of datasets from out workflow into structured well-named set of MVP datasets, which can be used by other teams"
   ]
  },
  {
   "cell_type": "code",
   "execution_count": 3,
   "metadata": {},
   "outputs": [],
   "source": [
    "import pandas as pd\n",
    "import json"
   ]
  },
  {
   "cell_type": "code",
   "execution_count": 4,
   "metadata": {},
   "outputs": [],
   "source": [
    "df_mvp = pd.read_csv('datasets/dataset_MVP_clustered_metadata.csv', sep=';', encoding='utf-8')\n",
    "df_full = pd.read_csv('datasets/df__CLEAN_UPDATED_metadata.csv', sep=';', encoding='utf-8')\n",
    "df_labels = pd.read_csv('datasets/dataset_labels.csv', sep=';', encoding='utf-8')\n",
    "df_clusters = pd.read_csv('datasets/MVP_clusters_info.csv', sep=';', encoding='utf-8')\n",
    "\n",
    "with open('datasets/buildings_dict.json', 'r', encoding='utf-8') as f:\n",
    "    dict_buildings = json.load(f)"
   ]
  },
  {
   "cell_type": "code",
   "execution_count": 5,
   "metadata": {},
   "outputs": [],
   "source": [
    "df_mvp.to_csv('DELIVERY/images.csv', sep=';', encoding='utf-8', index=False)\n",
    "df_full.to_csv('DELIVERY/objects.csv', sep=';', encoding='utf-8', index=False)\n",
    "df_labels.to_csv('DELIVERY/labels.csv', sep=';', encoding='utf-8', index=False)\n",
    "df_clusters.to_csv('DELIVERY/clusters.csv', sep=';', encoding='utf-8', index=False)\n",
    "\n",
    "with open('DELIVERY/buildings_dict.json', 'w', encoding='utf-8') as f:\n",
    "    json.dump(dict_buildings, f, ensure_ascii=False, indent=4)"
   ]
  }
 ],
 "metadata": {
  "kernelspec": {
   "display_name": "Python 3",
   "language": "python",
   "name": "python3"
  },
  "language_info": {
   "codemirror_mode": {
    "name": "ipython",
    "version": 3
   },
   "file_extension": ".py",
   "mimetype": "text/x-python",
   "name": "python",
   "nbconvert_exporter": "python",
   "pygments_lexer": "ipython3",
   "version": "3.9.6"
  }
 },
 "nbformat": 4,
 "nbformat_minor": 2
}
