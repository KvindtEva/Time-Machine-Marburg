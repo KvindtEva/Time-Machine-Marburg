{
 "cells": [
  {
   "cell_type": "markdown",
   "metadata": {},
   "source": [
    "Target column (Prof.Bell) is `image_links`. However, in column `microfiche_links` there are **scans** of photos and documents  \n",
    "\n",
    "In order to download pictures to your computer, run all code in **Preprocessing** section and then go to section **Downloading** and choose whether you want to download images from `images_links` or scnas from `microfiche_links` by running relevant section (**Image downloading** or **Scan downloading**). Don't forget to specify amount of pictures to download `OBJECTS_TO_DOWNLOAD`"
   ]
  },
  {
   "cell_type": "markdown",
   "metadata": {},
   "source": [
    "# Preprocessing"
   ]
  },
  {
   "cell_type": "code",
   "execution_count": 2,
   "metadata": {},
   "outputs": [],
   "source": [
    "import pandas as pd\n",
    "import requests\n",
    "import re\n",
    "import numpy as np\n",
    "import os"
   ]
  },
  {
   "cell_type": "code",
   "execution_count": 3,
   "metadata": {},
   "outputs": [],
   "source": [
    "file_name = 'DATASETS_DONT_TOUCH/dataset_CLEAN.csv'\n",
    "df = pd.read_csv(file_name, sep=';', encoding='utf-8')\n",
    "\n",
    "# print(df.shape)\n",
    "# df.head()"
   ]
  },
  {
   "cell_type": "markdown",
   "metadata": {},
   "source": [
    "Converting strings in coulmn image_links - microfiche_archive_links back into lists of strings"
   ]
  },
  {
   "cell_type": "code",
   "execution_count": 4,
   "metadata": {},
   "outputs": [],
   "source": [
    "# Took ~20 seconds\n",
    " \n",
    "columns_to_convert = df.columns[3:]\n",
    "\n",
    "for i in range(df.shape[0]):\n",
    "    for column in columns_to_convert:\n",
    "        _ = df.iloc[i][column]\n",
    "        if _ == '[]':\n",
    "            df.at[i, column] = []\n",
    "        else:\n",
    "            df.at[i, column] =  _[2:-2].split('\\', \\'')\n"
   ]
  },
  {
   "cell_type": "markdown",
   "metadata": {},
   "source": [
    "# Downloading"
   ]
  },
  {
   "cell_type": "code",
   "execution_count": null,
   "metadata": {},
   "outputs": [],
   "source": [
    "sum_img, sum_scans, sum_dif = 0, 0, 0\n",
    "\n",
    "for i in range(df.shape[0]):\n",
    "    num_img, num_scans = len(df.iloc[i].image_links), len(df.iloc[i].microfiche_links)\n",
    "    sum_img += num_img\n",
    "    sum_scans += num_scans\n",
    "    sum_dif += num_img == num_scans\n",
    "\n",
    "\n",
    "print(f'Amount of objects in dataset: {df.shape[0]}')\n",
    "print(f'Amount of images in \\\"image_links\\\": {sum_img}')\n",
    "print(f'Amount of images in \\\"microfiche_links\\\": {sum_scans}')\n",
    "print(f'Cases, when only scans or only images are given: {sum_dif}')"
   ]
  },
  {
   "cell_type": "markdown",
   "metadata": {},
   "source": [
    "## Functions"
   ]
  },
  {
   "cell_type": "code",
   "execution_count": 7,
   "metadata": {},
   "outputs": [],
   "source": [
    "def download_image(url, save_path):\n",
    "    try:\n",
    "        # Send a GET request to the URL\n",
    "        response = requests.get(url)\n",
    "        \n",
    "        # Check if the request was successful\n",
    "        if response.status_code == 200:\n",
    "            # Open a file in binary mode and write the image content\n",
    "            with open(save_path, 'wb') as file:\n",
    "                file.write(response.content)\n",
    "            # print(f\"Image successfully downloaded: {save_path}\")\n",
    "        else:\n",
    "            print(f\"Failed to retrieve image from {url}. Status code: {response.status_code}\")\n",
    "    except Exception as e:\n",
    "        print(f\"An error occurred: {e}\")\n",
    "\n",
    "def create_folder(folder_name):\n",
    "    # Check if the folder exists\n",
    "    if not os.path.exists(folder_name):\n",
    "        # Create the folder if it doesn't exist\n",
    "        os.makedirs(folder_name)\n",
    "        print(f\"Folder '{folder_name}' created.\")\n",
    "    else:\n",
    "        print(f\"Folder '{folder_name}' already exists.\")"
   ]
  },
  {
   "cell_type": "markdown",
   "metadata": {},
   "source": [
    "## Downloading"
   ]
  },
  {
   "cell_type": "code",
   "execution_count": null,
   "metadata": {},
   "outputs": [],
   "source": [
    "# One object consists of many images\n",
    "OBJECTS_TO_DOWNLOAD = 10"
   ]
  },
  {
   "cell_type": "markdown",
   "metadata": {},
   "source": [
    "### Image downloading"
   ]
  },
  {
   "cell_type": "code",
   "execution_count": 8,
   "metadata": {},
   "outputs": [
    {
     "name": "stdout",
     "output_type": "stream",
     "text": [
      "Folder 'images' already exists.\n"
     ]
    }
   ],
   "source": [
    "# Upload images from image_links to your computer\n",
    "\n",
    "create_folder('images')\n",
    "\n",
    "for i in range(OBJECTS_TO_DOWNLOAD):\n",
    "    j = 0\n",
    "    for link in df.iloc[i].image_links:\n",
    "\n",
    "        # Build a name for the image\n",
    "        name = ''\n",
    "        line = df.iloc[i].id_persistent\n",
    "        if line != 'NO_ID_PERSISTENT':\n",
    "            name += re.findall(r'.*/([^/]*)$', line)[0] + '-'\n",
    "        else:\n",
    "            name += 'NO_ID_PERSISTENT-'\n",
    "        name += re.findall(r'.*/([^/]*)$', link)[0]\n",
    "\n",
    "        save_path = f'images/img-{name}.jpg'\n",
    "        download_image(link, save_path)\n",
    "        j += 1\n"
   ]
  },
  {
   "cell_type": "markdown",
   "metadata": {},
   "source": [
    "### Scan downloading"
   ]
  },
  {
   "cell_type": "code",
   "execution_count": 9,
   "metadata": {},
   "outputs": [
    {
     "name": "stdout",
     "output_type": "stream",
     "text": [
      "Folder 'scans' already exists.\n"
     ]
    }
   ],
   "source": [
    "# Upload scans from microfiche_links to your computer\n",
    "\n",
    "create_folder('scans')\n",
    "\n",
    "# One object consists of many images\n",
    "\n",
    "for i in range(OBJECTS_TO_DOWNLOAD):\n",
    "    j = 0\n",
    "    for link in df.iloc[i].microfiche_links:\n",
    "\n",
    "        # Build a name for the image\n",
    "        name = ''\n",
    "        line = df.iloc[i].id_persistent\n",
    "        if line != 'NO_ID_PERSISTENT':\n",
    "            name += re.findall(r'.*/([^/]*)$', line)[0] + '-'\n",
    "        else:\n",
    "            name += 'NO_ID_PERSISTENT-'\n",
    "        name += re.findall(r'.*/([^/]*)$', link)[0]\n",
    "\n",
    "        save_path = f'scans/scn-{name}.jpg'\n",
    "        download_image(link, save_path)\n",
    "        j += 1\n"
   ]
  },
  {
   "cell_type": "markdown",
   "metadata": {},
   "source": []
  },
  {
   "cell_type": "markdown",
   "metadata": {},
   "source": []
  }
 ],
 "metadata": {
  "kernelspec": {
   "display_name": "Python 3",
   "language": "python",
   "name": "python3"
  },
  "language_info": {
   "codemirror_mode": {
    "name": "ipython",
    "version": 3
   },
   "file_extension": ".py",
   "mimetype": "text/x-python",
   "name": "python",
   "nbconvert_exporter": "python",
   "pygments_lexer": "ipython3",
   "version": "3.11.4"
  }
 },
 "nbformat": 4,
 "nbformat_minor": 2
}
