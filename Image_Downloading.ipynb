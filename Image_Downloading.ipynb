{
 "cells": [
  {
   "cell_type": "markdown",
   "metadata": {},
   "source": [
    "### Dataset understanding\n",
    "\n",
    "| Column Name               | Type        | UNIQUE      | Description |\n",
    "| -----------               | ----------- | ----------- | ----------- |\n",
    "| `record identifiers`      | LINK        | NO          | A link to an object (e.g. set of papers of a book)       |\n",
    "| `persistent identifier`   | LINK        | YES         | A link to an subobject of an object (e.g. one sheet of paper from this book). Sometimes is similar to `record identifiers`       |\n",
    "| `identification labels`   | TEXT        | NO          |A label, text description |\n",
    "| `digital images/downloads (files)`   | SET OF LINKS        | PROBABLY          |A set of links to download all coresponding images to this subobject (e.g. all sides of this sheet of paper in each link) |\n",
    "| `digital images/archival description`   | LINK        | PROBABLY          |A link to another page in archive ??? |\n",
    "| `microfiche/downloads (files)`   | SET OF LINKS        | PROBABLY          |A link to download pictures from archive. Probably there are scans of original objects, books, photos of sculptures with metadate on them. Could be used as a style transfer and metadata resourse, if it is not in the `identification labels` column |\n",
    "| `microfiche/archival description`   | LINK        | PROBABLY          |Links to another archive |\n",
    "\n",
    "<img src=\"dataset logic.jpg\" width=\"500\">\n"
   ]
  },
  {
   "cell_type": "code",
   "execution_count": 2,
   "metadata": {},
   "outputs": [],
   "source": [
    "import pandas as pd\n",
    "import requests\n",
    "import re\n",
    "import numpy as np\n",
    "import os"
   ]
  },
  {
   "cell_type": "code",
   "execution_count": 3,
   "metadata": {},
   "outputs": [],
   "source": [
    "file_name = 'DATASETS_DONT_TOUCH/dataset_CLEAN.csv'\n",
    "df = pd.read_csv(file_name, sep=';', encoding='utf-8')\n",
    "\n",
    "# print(df.shape)\n",
    "# df.head()"
   ]
  },
  {
   "cell_type": "markdown",
   "metadata": {},
   "source": [
    "Converting strings in coulmn image_links - microfiche_archive_links back into lists of strings"
   ]
  },
  {
   "cell_type": "code",
   "execution_count": 4,
   "metadata": {},
   "outputs": [],
   "source": [
    "# Took ~20 seconds\n",
    " \n",
    "columns_to_convert = df.columns[3:]\n",
    "\n",
    "# for i in range(11):\n",
    "for i in range(df.shape[0]):\n",
    "    for column in columns_to_convert:\n",
    "        _ = df.iloc[i][column]\n",
    "        if _ == '[]':\n",
    "            df.at[i, column] = []\n",
    "        else:\n",
    "            # print(_[2:-2])\n",
    "            df.at[i, column] =  _[2:-2].split('\\', \\'')\n"
   ]
  },
  {
   "cell_type": "code",
   "execution_count": 5,
   "metadata": {},
   "outputs": [],
   "source": [
    "# df.iloc[100]"
   ]
  },
  {
   "cell_type": "markdown",
   "metadata": {},
   "source": [
    "### Image downloading\n",
    "Rrof. Bell said that target column is `image_links`. However, in column `microfiche_links` there are also pictures to downloading, but scans of photos and documents. I will download images from this two sources in separate folders."
   ]
  },
  {
   "cell_type": "code",
   "execution_count": 6,
   "metadata": {},
   "outputs": [
    {
     "name": "stdout",
     "output_type": "stream",
     "text": [
      "Amount of objects in dataset: 38200\n",
      "Amount of images in \"image_links\": 57094\n",
      "Amount of images in \"microfiche_links\": 36177\n",
      "Cases, when only scans or only images are given: 5793\n"
     ]
    }
   ],
   "source": [
    "sum_img, sum_scans, sum_dif = 0, 0, 0\n",
    "\n",
    "for i in range(df.shape[0]):\n",
    "    num_img, num_scans = len(df.iloc[i].image_links), len(df.iloc[i].microfiche_links)\n",
    "    sum_img += num_img\n",
    "    sum_scans += num_scans\n",
    "    sum_dif += num_img == num_scans\n",
    "\n",
    "\n",
    "print(f'Amount of objects in dataset: {df.shape[0]}')\n",
    "print(f'Amount of images in \\\"image_links\\\": {sum_img}')\n",
    "print(f'Amount of images in \\\"microfiche_links\\\": {sum_scans}')\n",
    "print(f'Cases, when only scans or only images are given: {sum_dif}')"
   ]
  },
  {
   "cell_type": "code",
   "execution_count": 7,
   "metadata": {},
   "outputs": [],
   "source": [
    "def download_image(url, save_path):\n",
    "    try:\n",
    "        # Send a GET request to the URL\n",
    "        response = requests.get(url)\n",
    "        \n",
    "        # Check if the request was successful\n",
    "        if response.status_code == 200:\n",
    "            # Open a file in binary mode and write the image content\n",
    "            with open(save_path, 'wb') as file:\n",
    "                file.write(response.content)\n",
    "            # print(f\"Image successfully downloaded: {save_path}\")\n",
    "        else:\n",
    "            print(f\"Failed to retrieve image from {url}. Status code: {response.status_code}\")\n",
    "    except Exception as e:\n",
    "        print(f\"An error occurred: {e}\")\n",
    "\n",
    "def create_folder(folder_name):\n",
    "    # Check if the folder exists\n",
    "    if not os.path.exists(folder_name):\n",
    "        # Create the folder if it doesn't exist\n",
    "        os.makedirs(folder_name)\n",
    "        print(f\"Folder '{folder_name}' created.\")\n",
    "    else:\n",
    "        print(f\"Folder '{folder_name}' already exists.\")"
   ]
  },
  {
   "cell_type": "markdown",
   "metadata": {},
   "source": [
    "Choose amount of objects to download and specify the name of the folder if it's needed"
   ]
  },
  {
   "cell_type": "code",
   "execution_count": 8,
   "metadata": {},
   "outputs": [
    {
     "name": "stdout",
     "output_type": "stream",
     "text": [
      "Folder 'images' already exists.\n"
     ]
    }
   ],
   "source": [
    "# Upload images from image_links to your computer\n",
    "\n",
    "# One object consists of many images\n",
    "OBJECTS_TO_DOWNLOAD = 5\n",
    "\n",
    "create_folder('images')\n",
    "\n",
    "for i in range(OBJECTS_TO_DOWNLOAD):\n",
    "    j = 0\n",
    "    for link in df.iloc[i].image_links:\n",
    "\n",
    "        # Build a name for the image\n",
    "        name = ''\n",
    "        line = df.iloc[i].id_persistent\n",
    "        if line != 'NO_ID_PERSISTENT':\n",
    "            name += re.findall(r'.*/([^/]*)$', line)[0] + '-'\n",
    "        else:\n",
    "            name += 'NO_ID_PERSISTENT-'\n",
    "        name += re.findall(r'.*/([^/]*)$', link)[0]\n",
    "\n",
    "        save_path = f'images/img-{name}.jpg'\n",
    "        download_image(link, save_path)\n",
    "        j += 1\n"
   ]
  },
  {
   "cell_type": "markdown",
   "metadata": {},
   "source": [
    "#### Same function for scan downloading (another column)\n"
   ]
  },
  {
   "cell_type": "code",
   "execution_count": 9,
   "metadata": {},
   "outputs": [
    {
     "name": "stdout",
     "output_type": "stream",
     "text": [
      "Folder 'scans' already exists.\n"
     ]
    }
   ],
   "source": [
    "# Upload scans from microfiche_links to your computer\n",
    "\n",
    "create_folder('scans')\n",
    "\n",
    "# One object consists of many images\n",
    "OBJECTS_TO_DOWNLOAD = 10\n",
    "\n",
    "for i in range(OBJECTS_TO_DOWNLOAD):\n",
    "    j = 0\n",
    "    for link in df.iloc[i].microfiche_links:\n",
    "\n",
    "        # Build a name for the image\n",
    "        name = ''\n",
    "        line = df.iloc[i].id_persistent\n",
    "        if line != 'NO_ID_PERSISTENT':\n",
    "            name += re.findall(r'.*/([^/]*)$', line)[0] + '-'\n",
    "        else:\n",
    "            name += 'NO_ID_PERSISTENT-'\n",
    "        name += re.findall(r'.*/([^/]*)$', link)[0]\n",
    "\n",
    "        save_path = f'scans/scn-{name}.jpg'\n",
    "        download_image(link, save_path)\n",
    "        j += 1\n"
   ]
  },
  {
   "cell_type": "markdown",
   "metadata": {},
   "source": []
  },
  {
   "cell_type": "markdown",
   "metadata": {},
   "source": []
  }
 ],
 "metadata": {
  "kernelspec": {
   "display_name": "Python 3",
   "language": "python",
   "name": "python3"
  },
  "language_info": {
   "codemirror_mode": {
    "name": "ipython",
    "version": 3
   },
   "file_extension": ".py",
   "mimetype": "text/x-python",
   "name": "python",
   "nbconvert_exporter": "python",
   "pygments_lexer": "ipython3",
   "version": "3.11.4"
  }
 },
 "nbformat": 4,
 "nbformat_minor": 2
}
