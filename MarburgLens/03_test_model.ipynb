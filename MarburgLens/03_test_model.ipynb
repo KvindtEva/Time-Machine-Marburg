{
 "cells": [
  {
   "cell_type": "code",
   "id": "initial_id",
   "metadata": {
    "collapsed": true,
    "ExecuteTime": {
     "end_time": "2025-04-27T16:40:02.715158Z",
     "start_time": "2025-04-27T16:40:02.044509Z"
    }
   },
   "source": [
    "# predict_image.py\n",
    "\n",
    "import argparse\n",
    "from pathlib import Path\n",
    "import torch\n",
    "import torch.nn as nn\n",
    "from torchvision import models, transforms\n",
    "from PIL import Image\n",
    "from prepare_data import create_dataloaders\n",
    "\n",
    "# ----------------------\n",
    "# CONFIGURATION\n",
    "# ----------------------\n",
    "DEVICE = torch.device('cuda' if torch.cuda.is_available() else 'cpu')\n",
    "MODEL_PATH = 'resnet50_marburglens.pth'\n",
    "\n",
    "# ----------------------\n",
    "# TRANSFORM (must match validation transforms)\n",
    "# ----------------------\n",
    "transform = transforms.Compose([\n",
    "    transforms.Resize(256),\n",
    "    transforms.CenterCrop(224),\n",
    "    transforms.ToTensor(),\n",
    "    transforms.Normalize(mean=[0.485, 0.456, 0.406],\n",
    "                         std=[0.229, 0.224, 0.225]),\n",
    "])\n",
    "\n",
    "# ----------------------\n",
    "# FUNCTION: Load model\n",
    "# ----------------------\n",
    "def load_model(num_classes=29):\n",
    "    model = models.resnet50(weights=None)\n",
    "    model.fc = nn.Linear(model.fc.in_features, num_classes)\n",
    "    model.load_state_dict(torch.load(MODEL_PATH, map_location=DEVICE))\n",
    "    model.eval()\n",
    "    model.to(DEVICE)\n",
    "    return model\n",
    "\n",
    "# ----------------------\n",
    "# FUNCTION: Predict image\n",
    "# ----------------------\n",
    "def predict_image(image_path):\n",
    "    # Load model\n",
    "    model = load_model()\n",
    "\n",
    "    # Load classes\n",
    "    train_loader, _, _ = create_dataloaders(batch_size=32)\n",
    "    class_names = train_loader.dataset.classes\n",
    "\n",
    "    # Check image exists\n",
    "    image_path = Path(image_path)\n",
    "    if not image_path.exists():\n",
    "        print(f\"❌ Image not found: {image_path}\")\n",
    "        return\n",
    "\n",
    "    # Load and preprocess image\n",
    "    image = Image.open(image_path).convert('RGB')\n",
    "    input_tensor = transform(image).unsqueeze(0).to(DEVICE)\n",
    "\n",
    "    # Prediction\n",
    "    with torch.no_grad():\n",
    "        outputs = model(input_tensor)\n",
    "        _, preds = torch.max(outputs, 1)\n",
    "\n",
    "    predicted_class = class_names[preds.item()]\n",
    "    print(f\"\\n✅ Predicted Building: {predicted_class}\\n\")\n",
    "\n",
    "# ----------------------\n",
    "# MAIN\n",
    "# ----------------------\n",
    "if __name__ == '__main__':\n",
    "    import sys\n",
    "    if 'ipykernel' in sys.modules:\n",
    "        # Running inside Jupyter\n",
    "        predict_image('test_images/myphoto.jpg')  # put your image path here manually\n",
    "    else:\n",
    "        parser = argparse.ArgumentParser(description='Predict building from an image')\n",
    "        parser.add_argument('--img', type=str, required=True, help='Path to the input image')\n",
    "        args = parser.parse_args()\n",
    "        predict_image(args.img)\n"
   ],
   "outputs": [
    {
     "name": "stderr",
     "output_type": "stream",
     "text": [
      "C:\\Users\\sOrOush\\AppData\\Local\\Temp\\ipykernel_145448\\3502473338.py:34: FutureWarning: You are using `torch.load` with `weights_only=False` (the current default value), which uses the default pickle module implicitly. It is possible to construct malicious pickle data which will execute arbitrary code during unpickling (See https://github.com/pytorch/pytorch/blob/main/SECURITY.md#untrusted-models for more details). In a future release, the default value for `weights_only` will be flipped to `True`. This limits the functions that could be executed during unpickling. Arbitrary objects will no longer be allowed to be loaded via this mode unless they are explicitly allowlisted by the user via `torch.serialization.add_safe_globals`. We recommend you start setting `weights_only=True` for any use case where you don't have full control of the loaded file. Please open an issue on GitHub for any issues related to this experimental feature.\n",
      "  model.load_state_dict(torch.load(MODEL_PATH, map_location=DEVICE))\n"
     ]
    },
    {
     "name": "stdout",
     "output_type": "stream",
     "text": [
      "Datasets ready: 1212 train, 335 val, 205 test samples.\n",
      "\n",
      "✅ Predicted Building: Universitätsstraße 25\n",
      "\n"
     ]
    }
   ],
   "execution_count": 5
  },
  {
   "metadata": {},
   "cell_type": "code",
   "outputs": [],
   "execution_count": null,
   "source": "",
   "id": "f303a0dc84c801a9"
  }
 ],
 "metadata": {
  "kernelspec": {
   "display_name": "Python 3",
   "language": "python",
   "name": "python3"
  },
  "language_info": {
   "codemirror_mode": {
    "name": "ipython",
    "version": 2
   },
   "file_extension": ".py",
   "mimetype": "text/x-python",
   "name": "python",
   "nbconvert_exporter": "python",
   "pygments_lexer": "ipython2",
   "version": "2.7.6"
  }
 },
 "nbformat": 4,
 "nbformat_minor": 5
}
