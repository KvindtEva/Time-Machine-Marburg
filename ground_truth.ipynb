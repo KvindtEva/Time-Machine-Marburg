{
 "cells": [
  {
   "cell_type": "markdown",
   "metadata": {},
   "source": [
    "# Ground truth dataset\n",
    "This code access our GitHub, where benchmark is storaged and create a DataFrame (url, label)"
   ]
  },
  {
   "cell_type": "code",
   "execution_count": 2,
   "metadata": {},
   "outputs": [],
   "source": [
    "import pandas as pd\n",
    "import requests\n",
    "from requests.auth import HTTPBasicAuth"
   ]
  },
  {
   "cell_type": "code",
   "execution_count": 6,
   "metadata": {},
   "outputs": [],
   "source": [
    "repo_owner = 'KvindtEva'\n",
    "repo_name = 'Time-Machine-Marburg'\n",
    "access_token = 'your_access_token'"
   ]
  },
  {
   "cell_type": "code",
   "execution_count": 7,
   "metadata": {},
   "outputs": [],
   "source": [
    "base_api_url = f'https://api.github.com/repos/{repo_owner}/{repo_name}/contents/'\n",
    "\n",
    "# Function to get folder contents with authentication\n",
    "def get_folder_contents(folder_url):\n",
    "    response = requests.get(folder_url, headers={'Authorization': f'token {access_token}'})\n",
    "    response.raise_for_status()  # Check for request errors\n",
    "    return response.json()\n",
    "def get_image_links_and_folders(base_url):\n",
    "    # Get the contents of the root directory\n",
    "    root_contents = get_folder_contents(base_url)\n",
    "    \n",
    "    data = []\n",
    "    \n",
    "    # Iterate through each item in the root directory\n",
    "    for item in root_contents:\n",
    "        if item['type'] == 'dir':  # Check if the item is a directory\n",
    "            folder_url = item['url']\n",
    "            folder_name = item['name']\n",
    "            \n",
    "            # Get contents of the folder\n",
    "            folder_contents = get_folder_contents(folder_url)\n",
    "            \n",
    "            for file_item in folder_contents:\n",
    "                if file_item['type'] == 'file' and file_item['name'].lower().endswith(('.jpg', '.jpeg', '.png')):  # Filter for image files\n",
    "                    image_url = file_item['download_url']\n",
    "                    data.append([image_url, folder_name])\n",
    "    \n",
    "    return data"
   ]
  },
  {
   "cell_type": "code",
   "execution_count": 8,
   "metadata": {},
   "outputs": [
    {
     "data": {
      "text/html": [
       "<div>\n",
       "<style scoped>\n",
       "    .dataframe tbody tr th:only-of-type {\n",
       "        vertical-align: middle;\n",
       "    }\n",
       "\n",
       "    .dataframe tbody tr th {\n",
       "        vertical-align: top;\n",
       "    }\n",
       "\n",
       "    .dataframe thead th {\n",
       "        text-align: right;\n",
       "    }\n",
       "</style>\n",
       "<table border=\"1\" class=\"dataframe\">\n",
       "  <thead>\n",
       "    <tr style=\"text-align: right;\">\n",
       "      <th></th>\n",
       "      <th>url</th>\n",
       "      <th>label</th>\n",
       "    </tr>\n",
       "  </thead>\n",
       "  <tbody>\n",
       "    <tr>\n",
       "      <th>0</th>\n",
       "      <td>https://raw.githubusercontent.com/KvindtEva/Ti...</td>\n",
       "      <td>Elisabethkirche_DeutscherOrden</td>\n",
       "    </tr>\n",
       "    <tr>\n",
       "      <th>1</th>\n",
       "      <td>https://raw.githubusercontent.com/KvindtEva/Ti...</td>\n",
       "      <td>Elisabethkirche_DeutscherOrden</td>\n",
       "    </tr>\n",
       "    <tr>\n",
       "      <th>2</th>\n",
       "      <td>https://raw.githubusercontent.com/KvindtEva/Ti...</td>\n",
       "      <td>Elisabethkirche_DeutscherOrden</td>\n",
       "    </tr>\n",
       "    <tr>\n",
       "      <th>3</th>\n",
       "      <td>https://raw.githubusercontent.com/KvindtEva/Ti...</td>\n",
       "      <td>Elisabethkirche_DeutscherOrden</td>\n",
       "    </tr>\n",
       "    <tr>\n",
       "      <th>4</th>\n",
       "      <td>https://raw.githubusercontent.com/KvindtEva/Ti...</td>\n",
       "      <td>Elisabethkirche_DeutscherOrden</td>\n",
       "    </tr>\n",
       "  </tbody>\n",
       "</table>\n",
       "</div>"
      ],
      "text/plain": [
       "                                                 url  \\\n",
       "0  https://raw.githubusercontent.com/KvindtEva/Ti...   \n",
       "1  https://raw.githubusercontent.com/KvindtEva/Ti...   \n",
       "2  https://raw.githubusercontent.com/KvindtEva/Ti...   \n",
       "3  https://raw.githubusercontent.com/KvindtEva/Ti...   \n",
       "4  https://raw.githubusercontent.com/KvindtEva/Ti...   \n",
       "\n",
       "                            label  \n",
       "0  Elisabethkirche_DeutscherOrden  \n",
       "1  Elisabethkirche_DeutscherOrden  \n",
       "2  Elisabethkirche_DeutscherOrden  \n",
       "3  Elisabethkirche_DeutscherOrden  \n",
       "4  Elisabethkirche_DeutscherOrden  "
      ]
     },
     "execution_count": 8,
     "metadata": {},
     "output_type": "execute_result"
    }
   ],
   "source": [
    "image_folder_path = 'datasets_benchmark'\n",
    "folder_url = base_api_url + image_folder_path\n",
    "\n",
    "folder_url = folder_url[:-18] + \"DATASET_GROUNDTRUTH\"\n",
    "\n",
    "# Get data and create DataFrame\n",
    "data = get_image_links_and_folders(folder_url)\n",
    "df = pd.DataFrame(data, columns=['url', 'label'])\n",
    "\n",
    "df.head()"
   ]
  },
  {
   "cell_type": "code",
   "execution_count": 9,
   "metadata": {},
   "outputs": [],
   "source": [
    "df.to_csv('datasets/production/dataset_benchmark.csv', index=False)"
   ]
  }
 ],
 "metadata": {
  "kernelspec": {
   "display_name": "Python 3",
   "language": "python",
   "name": "python3"
  },
  "language_info": {
   "codemirror_mode": {
    "name": "ipython",
    "version": 3
   },
   "file_extension": ".py",
   "mimetype": "text/x-python",
   "name": "python",
   "nbconvert_exporter": "python",
   "pygments_lexer": "ipython3",
   "version": "3.11.4"
  }
 },
 "nbformat": 4,
 "nbformat_minor": 2
}