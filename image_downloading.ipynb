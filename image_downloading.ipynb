{
 "cells": [
  {
   "cell_type": "markdown",
   "metadata": {},
   "source": [
    "Target column (Prof.Bell) is `image_links`. However, in column `microfiche_links` there are **scans** of photos and documents  \n",
    "\n",
    "In order to download pictures to your computer, run all code in **Preprocessing** section and then go to section **Downloading** and choose whether you want to download images from `images_links` or scnas from `microfiche_links` by setting relevant variables. Don't forget to specify amount of pictures to download `OBJECTS_TO_DOWNLOAD`"
   ]
  },
  {
   "cell_type": "markdown",
   "metadata": {},
   "source": [
    "# Preprocessing"
   ]
  },
  {
   "cell_type": "code",
   "execution_count": 13,
   "metadata": {},
   "outputs": [],
   "source": [
    "import pandas as pd\n",
    "import re\n",
    "from config.fucntions import img_downloader as imgd\n",
    "from config.fucntions import columns_converter as cc"
   ]
  },
  {
   "cell_type": "code",
   "execution_count": 14,
   "metadata": {},
   "outputs": [],
   "source": [
    "file_name = 'datasets/dataset_CLEAN_ver2.csv'\n",
    "df = pd.read_csv(file_name, sep=';', encoding='utf-8')\n",
    "file_name = 'config/variables/blueprint_prefixes.txt'\n",
    "with open(file_name, 'r') as f:\n",
    "    blueprint_prefixes  = f.read().splitlines()\n"
   ]
  },
  {
   "cell_type": "markdown",
   "metadata": {},
   "source": [
    "Converting strings in coulmn image_links - microfiche_archive_links back into lists of strings"
   ]
  },
  {
   "cell_type": "code",
   "execution_count": 15,
   "metadata": {},
   "outputs": [
    {
     "data": {
      "text/html": [
       "<div>\n",
       "<style scoped>\n",
       "    .dataframe tbody tr th:only-of-type {\n",
       "        vertical-align: middle;\n",
       "    }\n",
       "\n",
       "    .dataframe tbody tr th {\n",
       "        vertical-align: top;\n",
       "    }\n",
       "\n",
       "    .dataframe thead th {\n",
       "        text-align: right;\n",
       "    }\n",
       "</style>\n",
       "<table border=\"1\" class=\"dataframe\">\n",
       "  <thead>\n",
       "    <tr style=\"text-align: right;\">\n",
       "      <th></th>\n",
       "      <th>id_record</th>\n",
       "      <th>id_persistent</th>\n",
       "      <th>label</th>\n",
       "      <th>image_links</th>\n",
       "      <th>archive_links</th>\n",
       "      <th>microfiche_links</th>\n",
       "      <th>microfiche_archive_links</th>\n",
       "    </tr>\n",
       "  </thead>\n",
       "  <tbody>\n",
       "    <tr>\n",
       "      <th>0</th>\n",
       "      <td>http://www.bildindex.de/document/obj20666124</td>\n",
       "      <td>http://id.bildindex.de/thing/0001618283</td>\n",
       "      <td>Lauenhain (Kreis Hainichen), Fahnenträger eine...</td>\n",
       "      <td>[]</td>\n",
       "      <td>[]</td>\n",
       "      <td>[http://www.bildindex.de/bilder/d/mi12308g07]</td>\n",
       "      <td>[https://www.bildindex.de/media/obj20666124/mi...</td>\n",
       "    </tr>\n",
       "    <tr>\n",
       "      <th>1</th>\n",
       "      <td>http://www.bildindex.de/document/obj20727600</td>\n",
       "      <td>http://id.bildindex.de/thing/0001677732</td>\n",
       "      <td>Fenster (Bauelement)</td>\n",
       "      <td>[http://www.bildindex.de/bilder/d/fm140030]</td>\n",
       "      <td>[https://www.bildindex.de/media/obj20727600/fm...</td>\n",
       "      <td>[http://www.bildindex.de/bilder/d/mi02117a05, ...</td>\n",
       "      <td>[https://www.bildindex.de/media/obj20727600/mi...</td>\n",
       "    </tr>\n",
       "    <tr>\n",
       "      <th>2</th>\n",
       "      <td>http://www.bildindex.de/document/obj20943303</td>\n",
       "      <td>http://id.bildindex.de/thing/0001803584</td>\n",
       "      <td>Kassel, Infanteriekasernen an der Königsstraße...</td>\n",
       "      <td>[http://www.bildindex.de/bilder/d/STMP_II_1108...</td>\n",
       "      <td>[https://www.bildindex.de/media/obj20943303/ST...</td>\n",
       "      <td>[]</td>\n",
       "      <td>[]</td>\n",
       "    </tr>\n",
       "    <tr>\n",
       "      <th>3</th>\n",
       "      <td>http://www.bildindex.de/document/obj20948462</td>\n",
       "      <td>http://id.bildindex.de/thing/0001806337</td>\n",
       "      <td>Waldeck, Domäne, Wohnhaus, Umbauentwurf, Aufrisse</td>\n",
       "      <td>[http://www.bildindex.de/bilder/d/STMP_II_1566...</td>\n",
       "      <td>[https://www.bildindex.de/media/obj20948462/ST...</td>\n",
       "      <td>[]</td>\n",
       "      <td>[]</td>\n",
       "    </tr>\n",
       "    <tr>\n",
       "      <th>4</th>\n",
       "      <td>http://www.bildindex.de/document/obj20943569</td>\n",
       "      <td>http://id.bildindex.de/thing/0001803733</td>\n",
       "      <td>Kassel, Opernhaus (Altes Hoftheater), Aborte i...</td>\n",
       "      <td>[http://www.bildindex.de/bilder/d/STMP_II_1383...</td>\n",
       "      <td>[https://www.bildindex.de/media/obj20943569/ST...</td>\n",
       "      <td>[]</td>\n",
       "      <td>[]</td>\n",
       "    </tr>\n",
       "  </tbody>\n",
       "</table>\n",
       "</div>"
      ],
      "text/plain": [
       "                                      id_record  \\\n",
       "0  http://www.bildindex.de/document/obj20666124   \n",
       "1  http://www.bildindex.de/document/obj20727600   \n",
       "2  http://www.bildindex.de/document/obj20943303   \n",
       "3  http://www.bildindex.de/document/obj20948462   \n",
       "4  http://www.bildindex.de/document/obj20943569   \n",
       "\n",
       "                             id_persistent  \\\n",
       "0  http://id.bildindex.de/thing/0001618283   \n",
       "1  http://id.bildindex.de/thing/0001677732   \n",
       "2  http://id.bildindex.de/thing/0001803584   \n",
       "3  http://id.bildindex.de/thing/0001806337   \n",
       "4  http://id.bildindex.de/thing/0001803733   \n",
       "\n",
       "                                               label  \\\n",
       "0  Lauenhain (Kreis Hainichen), Fahnenträger eine...   \n",
       "1                               Fenster (Bauelement)   \n",
       "2  Kassel, Infanteriekasernen an der Königsstraße...   \n",
       "3  Waldeck, Domäne, Wohnhaus, Umbauentwurf, Aufrisse   \n",
       "4  Kassel, Opernhaus (Altes Hoftheater), Aborte i...   \n",
       "\n",
       "                                         image_links  \\\n",
       "0                                                 []   \n",
       "1        [http://www.bildindex.de/bilder/d/fm140030]   \n",
       "2  [http://www.bildindex.de/bilder/d/STMP_II_1108...   \n",
       "3  [http://www.bildindex.de/bilder/d/STMP_II_1566...   \n",
       "4  [http://www.bildindex.de/bilder/d/STMP_II_1383...   \n",
       "\n",
       "                                       archive_links  \\\n",
       "0                                                 []   \n",
       "1  [https://www.bildindex.de/media/obj20727600/fm...   \n",
       "2  [https://www.bildindex.de/media/obj20943303/ST...   \n",
       "3  [https://www.bildindex.de/media/obj20948462/ST...   \n",
       "4  [https://www.bildindex.de/media/obj20943569/ST...   \n",
       "\n",
       "                                    microfiche_links  \\\n",
       "0      [http://www.bildindex.de/bilder/d/mi12308g07]   \n",
       "1  [http://www.bildindex.de/bilder/d/mi02117a05, ...   \n",
       "2                                                 []   \n",
       "3                                                 []   \n",
       "4                                                 []   \n",
       "\n",
       "                            microfiche_archive_links  \n",
       "0  [https://www.bildindex.de/media/obj20666124/mi...  \n",
       "1  [https://www.bildindex.de/media/obj20727600/mi...  \n",
       "2                                                 []  \n",
       "3                                                 []  \n",
       "4                                                 []  "
      ]
     },
     "execution_count": 15,
     "metadata": {},
     "output_type": "execute_result"
    }
   ],
   "source": [
    "# Takes ~5-20 seconds\n",
    "cc.strings_to_links(df, df.columns[3:])\n",
    "df.head()"
   ]
  },
  {
   "cell_type": "markdown",
   "metadata": {},
   "source": [
    "# Downloading"
   ]
  },
  {
   "cell_type": "code",
   "execution_count": 16,
   "metadata": {},
   "outputs": [],
   "source": [
    "# print(f'Amount of objects in dataset: {df.shape[0]}')\n",
    "# print(f'Images to download: {df.image_links.apply(lambda x: len(x)).sum()}')\n",
    "# print(f'Scans to download: {df.microfiche_links.apply(lambda x: len(x)).sum()}')\n",
    "# print()\n",
    "# print('(with blueprints)')\n"
   ]
  },
  {
   "cell_type": "code",
   "execution_count": 17,
   "metadata": {},
   "outputs": [],
   "source": [
    "# N_img_clean, N_obj_clean = 0, 0\n",
    "# blueprint_suffix = ['_r', '_v', 'T1', 'T2', 'V2', 'V1']\n",
    "\n",
    "# for i in range(df.shape[0]):\n",
    "    \n",
    "#     num_img = len(df.iloc[i].image_links)\n",
    "\n",
    "#     if num_img == 0:    \n",
    "#         continue\n",
    "    \n",
    "#     if df.iloc[i].image_links[0][-2:] not in blueprint_suffix:\n",
    "#         N_img_clean += num_img\n",
    "#         N_obj_clean += 1\n",
    "\n",
    "\n",
    "# print(f'Amount of objects in dataset with images available: {N_obj_clean}')\n",
    "# print(f'Amount of images in \\\"image_links\\\": {N_img_clean}')\n",
    "# print()\n",
    "# print('(without blueprints)')\n"
   ]
  },
  {
   "cell_type": "code",
   "execution_count": 18,
   "metadata": {},
   "outputs": [
    {
     "name": "stdout",
     "output_type": "stream",
     "text": [
      "Blueprints and scans: 7\n",
      "Blueprints only: 9917\n",
      "Scans only: 17458\n",
      "Images (image or scan, when there is no image): 49688\n"
     ]
    }
   ],
   "source": [
    "blueprint_suffix = ['_r', '_v', 'T1', 'T2', 'V2', 'V1']\n",
    "\n",
    "b_not_s, b_s, not_b_s, imgs = 0, 0, 0, 0\n",
    "\n",
    "for i in range(df.shape[0]):  \n",
    "    k_blueprints, k_scans, k_img = 0,  len(df.iloc[i]['microfiche_links']), 0\n",
    "    for link in df.iloc[i]['image_links']:\n",
    "        if link[-2:] in blueprint_suffix:\n",
    "            k_blueprints += 1\n",
    "        else:\n",
    "            k_img += 1\n",
    "    if k_img:\n",
    "        imgs += k_img\n",
    "    elif not k_blueprints:\n",
    "        imgs += len(df.iloc[i]['microfiche_links'])\n",
    "    if k_blueprints and k_scans:\n",
    "        b_s += 1\n",
    "    elif k_blueprints and not k_scans:\n",
    "        b_not_s += 1\n",
    "    elif not k_blueprints and k_scans:\n",
    "        not_b_s += 1\n",
    "\n",
    "print(f'Blueprints and scans: {b_s}')\n",
    "print(f'Blueprints only: {b_not_s}')\n",
    "print(f'Scans only: {not_b_s}')\n",
    "print(f'Images (image or scan, when there is no image): {imgs}')"
   ]
  },
  {
   "cell_type": "markdown",
   "metadata": {},
   "source": [
    "There are only 7 objects with both blueprints and scans presented. After manual checking we understood, that they are not related to our task, so we can skip them."
   ]
  },
  {
   "cell_type": "code",
   "execution_count": 19,
   "metadata": {},
   "outputs": [],
   "source": [
    "# One object consists of many images. Max = df.shape[0]\n",
    "OBJECTS_TO_DOWNLOAD = df.shape[0] // 4\n",
    "\n",
    "# If you want to download only scans, set this to True\n",
    "is_scan_only = False\n",
    "\n",
    "# If you want to download only blueprints, set this to True\n",
    "is_blueprints_only = False\n",
    "\n",
    "# Otherwise it will download no blueprints, only images ('image_links') or scans, when images are absent"
   ]
  },
  {
   "cell_type": "code",
   "execution_count": null,
   "metadata": {},
   "outputs": [
    {
     "name": "stdout",
     "output_type": "stream",
     "text": [
      "Folder 'images/blueprints_only' already exists.\n",
      "Error downloading image http://www.bildindex.de/bilder/d/STMP_II_13832_v of object 42\n"
     ]
    }
   ],
   "source": [
    "if is_scan_only:\n",
    "    folder_name, column, file_type = 'scans_only', 'microfiche_links', 'scn'\n",
    "    is_blueprints_only, is_all = False, False\n",
    "elif is_blueprints_only:\n",
    "    folder_name, column, file_type = 'blueprints_only', 'image_links', 'blpnt'\n",
    "    is_all = False\n",
    "else:\n",
    "    folder_name, file_type = 'images', 'img'\n",
    "    is_all = True\n",
    "    \n",
    "imgd.create_folder('images/' + folder_name)\n",
    "\n",
    "for i in range(OBJECTS_TO_DOWNLOAD):\n",
    "\n",
    "    # For objects without images check scans availability\n",
    "    if is_all:\n",
    "        if not len(df.iloc[i]['image_links']):\n",
    "            if not len(df.iloc[i]['microfiche_links']):\n",
    "                continue\n",
    "            else:\n",
    "                column, file_type = 'microfiche_links', 'scn'\n",
    "        else:\n",
    "            column, file_type = 'image_links', 'img'\n",
    "\n",
    "    # Iteration through lists of links\n",
    "    for link in df.iloc[i][column]:\n",
    "\n",
    "        # Skip blueprints file if needed\n",
    "        if is_blueprints_only:\n",
    "            if any(prefix not in link.split('/')[-1] for prefix in blueprint_prefixes):\n",
    "                continue\n",
    "        else:\n",
    "            if any(prefix in link.split('/')[-1] for prefix in blueprint_prefixes):\n",
    "                continue\n",
    "            \n",
    "        # Build a name for the image from id_persistent and link\n",
    "        name = ''\n",
    "        line = df.iloc[i].id_persistent\n",
    "        if line != 'NO_ID_PERSISTENT':\n",
    "            name += re.findall(r'.*/([^/]*)$', line)[0] + '-'\n",
    "        else:\n",
    "            name += line+'-'\n",
    "        name += re.findall(r'.*/([^/]*)$', link)[0]\n",
    "\n",
    "        # Download the image\n",
    "        save_path = f'images/{folder_name}/{file_type}-{name}.jpg'\n",
    "        try:\n",
    "            response, status = imgd.download_image(link, save_path)\n",
    "            if response == 'Failed':\n",
    "                if file_type == 'img':\n",
    "\n",
    "                    # Try to download same object from scans\n",
    "                    for link_new in df.iloc[i]['microfiche_links']:\n",
    "                        # Skip blueprints file\n",
    "                        if any(prefix in link.split('/')[-1] for prefix in blueprint_prefixes):\n",
    "                            continue\n",
    "                        \n",
    "                        # Build a new name for the image\n",
    "                        name = name[:re.search(f'-', name).span()[0]+1]\n",
    "                        name += re.findall(r'.*/([^/]*)$', link_new)[0]\n",
    "                        save_path = f'images/{folder_name}/scn-{name}.jpg'\n",
    "\n",
    "                        # Download the image\n",
    "                        response, status = imgd.download_image(link_new, save_path)\n",
    "                        if response == 'Failed':\n",
    "                            print(f'Failed downloading both image ({link}) and scan ({link_new}) of object {i}. Status code: {status}')\n",
    "                        continue\n",
    "                # print(f'Failed downloading image {link} of object {i}. Status code: {status}')\n",
    "\n",
    "            if response == 'Error':\n",
    "                print(f'Error downloading image {link} of object {i}. Status code: {status}')\n",
    "        except:\n",
    "            print(f'Error downloading image {link} of object {i}')"
   ]
  },
  {
   "cell_type": "code",
   "execution_count": 21,
   "metadata": {},
   "outputs": [
    {
     "data": {
      "text/plain": [
       "('http://www.bildindex.de/bilder/d/fm308202', 2770, 53, 'image_links')"
      ]
     },
     "execution_count": 21,
     "metadata": {},
     "output_type": "execute_result"
    }
   ],
   "source": [
    "pic = 'img-0001350498-fm308202'\n",
    "i,column,j = imgd.filename_to_object(df, pic)\n",
    "df.iloc[i][column][j], i, j, column"
   ]
  },
  {
   "cell_type": "code",
   "execution_count": 49,
   "metadata": {},
   "outputs": [
    {
     "data": {
      "text/plain": [
       "({'Images': ['img-0001486011-fm827854', 'img-0001486011-fm827854'],\n",
       "  'Scans': ['scn-0001486011-mi04028d01']},\n",
       " 'img-0001486011-fm827854')"
      ]
     },
     "execution_count": 49,
     "metadata": {},
     "output_type": "execute_result"
    }
   ],
   "source": [
    "i=1000\n",
    "imgd.object_to_filenames(df, i), imgd.link_to_filename(df.iloc[i].id_persistent, df.iloc[i].image_links[0], 'img')"
   ]
  }
 ],
 "metadata": {
  "kernelspec": {
   "display_name": "Python 3",
   "language": "python",
   "name": "python3"
  },
  "language_info": {
   "codemirror_mode": {
    "name": "ipython",
    "version": 3
   },
   "file_extension": ".py",
   "mimetype": "text/x-python",
   "name": "python",
   "nbconvert_exporter": "python",
   "pygments_lexer": "ipython3",
   "version": "3.11.4"
  }
 },
 "nbformat": 4,
 "nbformat_minor": 2
}
