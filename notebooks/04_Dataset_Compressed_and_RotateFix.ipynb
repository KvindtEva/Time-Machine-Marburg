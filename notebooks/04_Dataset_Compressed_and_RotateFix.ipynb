{
 "cells": [
  {
   "cell_type": "code",
   "execution_count": 3,
   "id": "b89ca5c3",
   "metadata": {},
   "outputs": [
    {
     "name": "stdout",
     "output_type": "stream",
     "text": [
      "Requirement already satisfied: pillow in e:\\anaconda\\lib\\site-packages (9.4.0)\n"
     ]
    }
   ],
   "source": [
    "!pip install pillow\n",
    "\n"
   ]
  },
  {
   "cell_type": "code",
   "execution_count": 4,
   "id": "0c5cd0a7",
   "metadata": {},
   "outputs": [
    {
     "name": "stdout",
     "output_type": "stream",
     "text": [
      "Resized and saved: F:\\UniOlder\\Marburg_Informatik\\Project_work\\resized\\20160402_145253.jpg\n",
      "Resized and saved: F:\\UniOlder\\Marburg_Informatik\\Project_work\\resized\\20160402_145401.jpg\n",
      "Resized and saved: F:\\UniOlder\\Marburg_Informatik\\Project_work\\resized\\20160402_184816.jpg\n",
      "Resized and saved: F:\\UniOlder\\Marburg_Informatik\\Project_work\\resized\\20160402_184822.jpg\n",
      "Resized and saved: F:\\UniOlder\\Marburg_Informatik\\Project_work\\resized\\20160402_184823.jpg\n",
      "Resized and saved: F:\\UniOlder\\Marburg_Informatik\\Project_work\\resized\\20160403_215656.jpg\n",
      "Resized and saved: F:\\UniOlder\\Marburg_Informatik\\Project_work\\resized\\20160403_215709.jpg\n",
      "Resized and saved: F:\\UniOlder\\Marburg_Informatik\\Project_work\\resized\\20160404_175952.jpg\n",
      "Resized and saved: F:\\UniOlder\\Marburg_Informatik\\Project_work\\resized\\20160404_180118.jpg\n",
      "Resized and saved: F:\\UniOlder\\Marburg_Informatik\\Project_work\\resized\\20160404_180151.jpg\n",
      "Resized and saved: F:\\UniOlder\\Marburg_Informatik\\Project_work\\resized\\20160404_182110.jpg\n",
      "Resized and saved: F:\\UniOlder\\Marburg_Informatik\\Project_work\\resized\\20160411_173431.jpg\n"
     ]
    }
   ],
   "source": [
    "import os\n",
    "from PIL import Image\n",
    "\n",
    "\n",
    "def resize_images(input_folder, output_folder, size=(224, 224)):\n",
    "\n",
    "    # Ensure the output folder exists\n",
    "    if not os.path.exists(output_folder):\n",
    "        os.makedirs(output_folder)\n",
    "        print(f\"Output folder created at: {output_folder}\")\n",
    "\n",
    "    # Supported image extensions\n",
    "    supported_formats = ('.jpg', '.jpeg', '.png', '.bmp', '.tiff')\n",
    "\n",
    "    # Crawl through the input folder\n",
    "    for root, _, files in os.walk(input_folder):\n",
    "        for file in files:\n",
    "            if file.lower().endswith(supported_formats):\n",
    "                input_path = os.path.join(root, file)  # Full path to the image (check the ending)\n",
    "                output_path = os.path.join(output_folder, file)  # Save path (check the ending)\n",
    "\n",
    "                try:\n",
    "                    # Open and resize the image\n",
    "                    with Image.open(input_path).convert('RGB') as img:\n",
    "                        img_resized = img.resize(size, Image.LANCZOS)  # Resize with high quality\n",
    "\n",
    "                        # Save the resized image in output_folder\n",
    "                        img_resized.save(output_path, \"JPEG\", quality=90)  # Save as JPEG with compression\n",
    " #                      img_resized.save(output_path, \"PNG\")  # Save as JPEG with compression\n",
    "                        print(f\"Resized and saved: {output_path}\")\n",
    "                except Exception as e:\n",
    "                    print(f\"Error processing {input_path}: {e}\")\n",
    "\n",
    "\n",
    "if __name__ == \"__main__\":\n",
    "    # Define input and output folders\n",
    "    input_folder = r\"F:\\UniOlder\\Marburg_Informatik\\Project_work\\test\"  # Replace with your source folder\n",
    "    output_folder = r\"F:\\UniOlder\\Marburg_Informatik\\Project_work\\resized\"  # Replace with your destination folder\n",
    "\n",
    "    # Call the function\n",
    "    resize_images(input_folder, output_folder)\n"
   ]
  },
  {
   "cell_type": "code",
   "execution_count": null,
   "id": "6d836275",
   "metadata": {},
   "outputs": [],
   "source": []
  }
 ],
 "metadata": {
  "kernelspec": {
   "display_name": "Python 3 (ipykernel)",
   "language": "python",
   "name": "python3"
  },
  "language_info": {
   "codemirror_mode": {
    "name": "ipython",
    "version": 3
   },
   "file_extension": ".py",
   "mimetype": "text/x-python",
   "name": "python",
   "nbconvert_exporter": "python",
   "pygments_lexer": "ipython3",
   "version": "3.11.5"
  }
 },
 "nbformat": 4,
 "nbformat_minor": 5
}
