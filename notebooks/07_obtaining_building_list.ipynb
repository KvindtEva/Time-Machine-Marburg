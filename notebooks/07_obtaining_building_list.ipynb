{
 "cells": [
  {
   "cell_type": "code",
   "execution_count": 336,
   "metadata": {},
   "outputs": [],
   "source": [
    "import pandas as pd\n",
    "import numpy as np\n",
    "import re"
   ]
  },
  {
   "cell_type": "markdown",
   "metadata": {},
   "source": [
    "# List of building\n",
    "In this file we will obtain a list of building, presented here: https://www.wikidata.org/wiki/Wikidata:WikiProject_Philipps-Universit%C3%A4t_Marburg  \n",
    "\n",
    "We collect only university buildings without those from 'Weitere Gebäude ohne Zuordnung'\n",
    "  \n",
    "**Known problems (from Wiki):**\n",
    "- Consistency of item names (partly German, partly English)\n",
    "- Numerous missing items\n",
    "- Scope of items not always clear (institution and/or building, e.g. UB)\n",
    "- Question about the creation of sub-items (e.g. \"Alte Aula\" as part of the \"Alte Universität\")  \n",
    "\n",
    "Relations between building could be obtained. There are storage somehow in a KDB form (see **Properties**). Might be interesting:\n",
    "- inception: time when an entity begins to exist\n",
    "- coordinate location\n",
    "- street address (however obtained with code from wiki)\n",
    "- picture: not always available"
   ]
  },
  {
   "cell_type": "code",
   "execution_count": 337,
   "metadata": {},
   "outputs": [],
   "source": [
    "# Obtain page source from this link https://www.wikidata.org/wiki/Wikidata:WikiProject_Philipps-Universit%C3%A4t_Marburg:\n",
    "import os\n",
    "import requests\n",
    "from bs4 import BeautifulSoup\n",
    "\n",
    "# Get the page source\n",
    "url = 'https://www.wikidata.org/wiki/Wikidata:WikiProject_Philipps-Universit%C3%A4t_Marburg'\n",
    "page = requests.get(url)\n",
    "soup = BeautifulSoup(page.content, 'html.parser')"
   ]
  },
  {
   "cell_type": "markdown",
   "metadata": {},
   "source": [
    "Structure of the part, which we are interested in: \n",
    "```\n",
    "# <div class=\"mw-heading mw-heading1\">...</div>\n",
    "# <div class=\"mw-heading mw-heading2 ext-discussiontools-init-section\">...</div>\n",
    "# <ul>\n",
    "#   <li>\n",
    "#   <li>\n",
    "#   <li>\n",
    "#   ...\n",
    "# </ul>\n",
    "# <div class=\"mw-heading mw-heading2 ext-discussiontools-init-section\">...</div>\n",
    "# <ul>\n",
    "#   <li>\n",
    "#   <li>\n",
    "#   <li>\n",
    "#   ...\n",
    "# </ul>\n",
    "# \n",
    "# <div class=\"mw-heading mw-heading1\">...</div>\n",
    "\n",
    "```"
   ]
  },
  {
   "cell_type": "code",
   "execution_count": 345,
   "metadata": {},
   "outputs": [],
   "source": [
    "def extract_info(building: str) -> tuple:\n",
    "    \"\"\"\n",
    "    Extracts information from a building string.\n",
    "\n",
    "    Args:\n",
    "        building (str): Input string containing building information.\n",
    "\n",
    "    Returns:\n",
    "        tuple: Contains the following extracted information:\n",
    "            - name (str): The name of the building.\n",
    "            - id_link (str): The unique identifier (Q-code).\n",
    "            - address_code (str): Address code in the format 'A|DD'.\n",
    "            - address (str): Address text.\n",
    "            - gebnum (str): Building number (Geb. Nr.).\n",
    "    \"\"\"\n",
    "    name, id_link, address_code, address, gebnum, other = '', '', '', '', '', ''\n",
    "\n",
    "    # a = building\n",
    "\n",
    "    gebnum = ''.join(re.findall(r'\\(Geb. Nr. (\\d+)\\)', building))\n",
    "\n",
    "    if gebnum != '' and re.search(r'\\(Geb. Nr. \\d+\\)',building).span()[1] < len(building):\n",
    "        building = re.sub(r'\\(Geb. Nr. \\d+\\).*', '', building).strip()\n",
    "    else:\n",
    "        building = re.sub(r'\\(Geb. Nr. \\d+\\)', '', building).strip()\n",
    "    id_link = ''.join(re.findall(r'\\((Q\\d+)\\)', building))\n",
    "    building = re.sub(r'\\(Q\\d+\\)', '', building).strip()\n",
    "    address_code = ''.join(re.findall(r'[A-Z]\\|\\d{2}', building))\n",
    "    building = [element.strip() for element in re.sub(r'[A-Z]\\|\\d{2}', '', building).strip().split(',') if element.strip() != '']\n",
    "    if len(building) > 1:\n",
    "        address = building[-1]\n",
    "        name = ', '.join(building[:-1])\n",
    "    else:\n",
    "        address = building[0]\n",
    "\n",
    "    # print(a, '\\n', name, id_link, address_code, address, gebnum)\n",
    "    # print()\n",
    "\n",
    "    return name, id_link, address_code, address, gebnum"
   ]
  },
  {
   "cell_type": "code",
   "execution_count": 346,
   "metadata": {},
   "outputs": [],
   "source": [
    "# Extract areas\n",
    "area_elements = soup.find_all(\"div\", class_=\"mw-heading mw-heading1\")\n",
    "buildings_dict = {}\n",
    "\n",
    "# Iterate through each area and extract its campuses and addresses\n",
    "for area in area_elements[:2]:\n",
    "    area_name = area.get_text(strip=True)[:-6]\n",
    "    buildings_dict[area_name] = {}\n",
    "    \n",
    "    # Get the next siblings until the next area\n",
    "    sibling = area.find_next_sibling()\n",
    "\n",
    "    while sibling and \"mw-heading1\" not in sibling.get(\"class\", []):\n",
    "        if \"mw-heading2\" in sibling.get(\"class\", []):\n",
    "            campus_name = sibling.get_text(strip=True)[:-6]\n",
    "            if campus_name == \"Weitere Gebäude ohne Zuordnung\":\n",
    "                sibling = sibling.find_next_sibling()\n",
    "                continue\n",
    "\n",
    "            # Get addresses for this campus\n",
    "            addresses = []\n",
    "            next_sibling = sibling.find_next_sibling()\n",
    "\n",
    "            if next_sibling and next_sibling.name == \"ul\":\n",
    "                for li in next_sibling.find_all(\"li\"):\n",
    "                    li_text = li.get_text(strip=True)\n",
    "                    is_relevant_building = 'nicht im Besitz' not in li_text and 'Q437790' not in li_text and 'Q130542938' not in li_text\n",
    "                    if is_relevant_building:\n",
    "                        addresses.append(li_text)\n",
    "\n",
    "                # Extract information from each address\n",
    "                for i, address in enumerate(addresses):\n",
    "                    # print(address)\n",
    "                    name, id_link, address_code, address, gebnum = extract_info(address)\n",
    "                    addresses[i] = {\n",
    "                        \"name\": name,\n",
    "                        \"id_link\": id_link,\n",
    "                        \"address_code\": address_code,\n",
    "                        \"address\": address,\n",
    "                        \"gebnum\": gebnum\n",
    "                    }\n",
    "                \n",
    "            buildings_dict[area_name][campus_name] = addresses\n",
    "            \n",
    "        sibling = sibling.find_next_sibling()\n"
   ]
  },
  {
   "cell_type": "code",
   "execution_count": 349,
   "metadata": {},
   "outputs": [],
   "source": [
    "# save as json buildings_dict\n",
    "import json\n",
    "with open('buildings_dict.json', 'w') as f:\n",
    "    json.dump(buildings_dict, f, indent=4)"
   ]
  },
  {
   "cell_type": "code",
   "execution_count": 352,
   "metadata": {},
   "outputs": [
    {
     "name": "stdout",
     "output_type": "stream",
     "text": [
      "Number of areas: 2\n",
      "Number of campuses: 14\n",
      "Number of buildings: 117\n"
     ]
    }
   ],
   "source": [
    "num_area, num_campus, num_building = 0, 0, 0\n",
    "\n",
    "for area in buildings_dict:\n",
    "    # print(area)\n",
    "    num_area += 1\n",
    "    for campus in buildings_dict[area]:\n",
    "        # print(f\"\\t{campus}\")\n",
    "        num_campus += 1\n",
    "        for building in buildings_dict[area][campus]:\n",
    "            num_building += 1\n",
    "            # print(f\"\\t\\t{building['name']} - {building['address']} - {building['gebnum']} - {building['id_link']}\")\n",
    "\n",
    "print(f\"Number of areas: {num_area}\")\n",
    "print(f\"Number of campuses: {num_campus}\")\n",
    "print(f\"Number of buildings: {num_building}\")"
   ]
  },
  {
   "cell_type": "code",
   "execution_count": null,
   "metadata": {},
   "outputs": [],
   "source": []
  },
  {
   "cell_type": "code",
   "execution_count": null,
   "metadata": {},
   "outputs": [],
   "source": []
  }
 ],
 "metadata": {
  "kernelspec": {
   "display_name": "base",
   "language": "python",
   "name": "python3"
  },
  "language_info": {
   "codemirror_mode": {
    "name": "ipython",
    "version": 3
   },
   "file_extension": ".py",
   "mimetype": "text/x-python",
   "name": "python",
   "nbconvert_exporter": "python",
   "pygments_lexer": "ipython3",
   "version": "3.11.5"
  }
 },
 "nbformat": 4,
 "nbformat_minor": 2
}