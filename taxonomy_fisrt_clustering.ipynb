{
 "cells": [
  {
   "cell_type": "code",
   "execution_count": 1,
   "metadata": {},
   "outputs": [],
   "source": [
    "import pandas as pd\n",
    "import numpy as np\n",
    "import re\n",
    "import json\n",
    "import os\n",
    "import shutil\n"
   ]
  },
  {
   "cell_type": "markdown",
   "metadata": {},
   "source": [
    "# Choosing Clusters\n",
    "We accomplished clustering among first original dataset and received 100 clusters. Then we put visualisation of those clusters to ChatGPT and asked to name each cluster as if it was taxonomy name (details in Trello). Here we  \n",
    "- want to extract those cluster names and choose relevant  \n",
    "- pit them to MVP"
   ]
  },
  {
   "cell_type": "markdown",
   "metadata": {},
   "source": [
    "## Retrieve and orginize ChatGPT taxonomy\n"
   ]
  },
  {
   "cell_type": "code",
   "execution_count": 2,
   "metadata": {},
   "outputs": [],
   "source": [
    "file_name = 'datasets/taxonomy_clustering100.txt'\n",
    "\n",
    "with open(file_name, 'r') as f:\n",
    "    chatgpt_taxonomy  = f.read().splitlines()\n",
    "\n",
    "chatgpt_taxonomy = [line for line in chatgpt_taxonomy if line != '']\n",
    "cluster_info = {}\n",
    "\n",
    "cluster_num = '0'\n",
    "is_description = False\n",
    "for line in chatgpt_taxonomy:\n",
    "    if line == '':\n",
    "        continue\n",
    "    if r'Cluster_' in line:\n",
    "        cluster_num = int(re.search(r'Cluster_(\\d{0,3})', line).group(1))\n",
    "        cluster_info[cluster_num] = {}\n",
    "        continue\n",
    "    if 'Cluster Name' in line:\n",
    "        name = line[re.search('Cluster Name: ', line).span()[1]:]\n",
    "        cluster_info[cluster_num]['name'] = name.strip()\n",
    "    if 'Key Words:' in line:\n",
    "        key_words = line[re.search('Key Words: ', line).span()[1]:].split(', ')\n",
    "        cluster_info[cluster_num]['keywords'] = key_words\n",
    "        continue\n",
    "    if 'Detailed Description:' == line:\n",
    "        is_description = True\n",
    "        continue\n",
    "    if is_description:\n",
    "        is_description = False\n",
    "        cluster_info[cluster_num]['description'] = line.strip()\n",
    "        continue\n",
    "    if 'Detailed Description:' in line:\n",
    "        description = line[re.search('Detailed Description:', line).span()[1]:].strip()\n",
    "        cluster_info[cluster_num]['description'] = description\n",
    "    "
   ]
  },
  {
   "cell_type": "code",
   "execution_count": 3,
   "metadata": {},
   "outputs": [
    {
     "name": "stdout",
     "output_type": "stream",
     "text": [
      "Amount of clusters retrieved: 100\n"
     ]
    },
    {
     "data": {
      "text/plain": [
       "{'name': 'Architectural Ceilings and Vaults',\n",
       " 'keywords': ['ceilings',\n",
       "  'vaults',\n",
       "  'stained glass',\n",
       "  'arches',\n",
       "  'architectural details',\n",
       "  'religious architecture',\n",
       "  'geometric patterns'],\n",
       " 'description': 'This cluster highlights intricate architectural ceilings and vault designs. It includes a variety of styles such as Gothic ribbed vaults, stained glass windows, and ornate decorative elements. The images showcase the intersection of structural engineering and artistic embellishment, often found in religious buildings like cathedrals, churches, and historical monuments. The collection emphasizes the beauty of ceiling craftsmanship, combining geometric precision with artistic flair.'}"
      ]
     },
     "execution_count": 3,
     "metadata": {},
     "output_type": "execute_result"
    }
   ],
   "source": [
    "print('Amount of clusters retrieved:', len(cluster_info))\n",
    "cluster_info[98]"
   ]
  },
  {
   "cell_type": "code",
   "execution_count": 4,
   "metadata": {},
   "outputs": [],
   "source": [
    "# with open('datasets/production/clusters_info.json', 'w') as f:\n",
    "#     json.dump(cluster_info, f, indent=4)"
   ]
  },
  {
   "cell_type": "code",
   "execution_count": 5,
   "metadata": {},
   "outputs": [],
   "source": [
    "names, descriptions = [], []\n",
    "\n",
    "# # Save names as list of tuples (cluster_num, name)\n",
    "# for i in cluster_info:\n",
    "#     names.append((i, cluster_info[i]['name']))\n",
    "# # names = sorted(names, key=lambda x: x[1])\n",
    "\n",
    "# Save names as list\n",
    "for i in cluster_info:\n",
    "    names.append(cluster_info[i]['name'])\n",
    "    descriptions.append(cluster_info[i]['description'])\n",
    "    \n",
    "tockens = set([])\n",
    "for name in names:\n",
    "    tockens.update(set(name.split(' ')))\n",
    "\n",
    "# names[:5], descriptions[:5]"
   ]
  },
  {
   "cell_type": "code",
   "execution_count": 6,
   "metadata": {},
   "outputs": [],
   "source": [
    "## Attempt to choose tockens that are relevant to architecture \n",
    "\n",
    "# relevant_tockens = ['Architecture', 'Church', 'Building', 'Buildings', \n",
    "#                     'Construction', 'Exteriors', 'Facades', 'Gothic', 'Landscape', 'Landscapes',\n",
    "#                     'Monuments', 'Mountainous', 'Nature', 'Residential', 'Rural',\n",
    "#                     'Settlements', 'Site', 'Sites', 'Spaces', 'Studios', 'Transport',\n",
    "#                     'Urban',]\n",
    "\n",
    "# for i in cluster_info:\n",
    "#     if any(relevant_tocken in cluster_info[i]['name'] for relevant_tocken in relevant_tockens):\n",
    "#         print(i, cluster_info[i]['name'])"
   ]
  },
  {
   "cell_type": "code",
   "execution_count": 7,
   "metadata": {},
   "outputs": [],
   "source": [
    "# with open(\"cluster no = 100  random_state=42/cluster_names.txt\", \"w\", encoding=\"utf-8\") as file:\n",
    "#     for name in names:\n",
    "#         file.write(name + '\\n')\n"
   ]
  },
  {
   "cell_type": "markdown",
   "metadata": {},
   "source": [
    "## Ask GPT to choose relevant"
   ]
  },
  {
   "cell_type": "markdown",
   "metadata": {},
   "source": [
    "ChatGPT prompt:  \n",
    "I did a clustering on archive images. Now I have names for those clusters. I need to extract all clusters (based on names) which relate to picutres of outside buildings\n",
    ".."
   ]
  },
  {
   "cell_type": "code",
   "execution_count": 8,
   "metadata": {},
   "outputs": [],
   "source": [
    "## Respond 1\n",
    "# with open('cluster no = 100  random_state=42/gptresponse_relevant_outside_1.txt', 'r') as f:\n",
    "#     relevant_names = f.read().splitlines()\n",
    "\n",
    "# relevant_names = [name.split(' - ')[0] for name in relevant_names if 'Yes' in name]\n",
    "\n",
    "# relevant_outdoors = []\n",
    "# for i in cluster_info:\n",
    "#     if cluster_info[i]['name'] in relevant_names:\n",
    "#         relevant_outdoors.append(i)\n"
   ]
  },
  {
   "cell_type": "code",
   "execution_count": 9,
   "metadata": {},
   "outputs": [],
   "source": [
    "# ## Respond 2\n",
    "# with open('cluster no = 100  random_state=42/gptresponse_relevant_outside_2.txt', 'r') as f:\n",
    "#     relevant_names = f.read().splitlines()\n",
    "\n",
    "# relevant_names = [line.split(' - ')[0] for line in relevant_names if line != '' and 'Yes' in line]\n",
    "\n",
    "# # relevant_outdoors = []\n",
    "# # for i in cluster_info:\n",
    "# #     if cluster_info[i]['name'] in relevant_names:\n",
    "# #         relevant_outdoors.append(i)\n",
    "# relevant_names"
   ]
  },
  {
   "cell_type": "markdown",
   "metadata": {},
   "source": [
    "## Manualy asign clusters area"
   ]
  },
  {
   "cell_type": "code",
   "execution_count": 10,
   "metadata": {},
   "outputs": [],
   "source": [
    "## Manualy\n",
    "relevant_outdoors = [0, 1, 4, 5, 12, 22, 33, 40, 49, 65, 66, 74, 83, 99]\n",
    "relevant_indoor = [3, 19, 61, 62, 64,67,84,]\n",
    "relevant_details = [35, 51, 68, 2]\n",
    "relevant_people = [11, 14, 24, 44, 47, 48, 50, 56, 57, 58,59, 63, 77,82, 89,95]\n",
    "# Not sure about 52"
   ]
  },
  {
   "cell_type": "code",
   "execution_count": 11,
   "metadata": {},
   "outputs": [
    {
     "name": "stdout",
     "output_type": "stream",
     "text": [
      "0 \t Architectural Archways\n",
      "['arches', 'domes', 'interiors', 'bridges', 'structures']\n",
      "\n",
      "1 \t Historical Landscape Prints\n",
      "['landscapes', 'black-and-white', 'mountains', 'architecture', 'nature']\n",
      "\n",
      "4 \t Black-and-White Landscapes\n",
      "['mountains', 'towns', 'rivers', 'architecture', 'valleys']\n",
      "\n",
      "5 \t Historical Church Facades\n",
      "['cathedrals', 'spires', 'Gothic', 'architecture', 'towers']\n",
      "\n",
      "12 \t Urban Landscapes\n",
      "['buildings', 'architecture', 'cityscapes', 'aerial', 'landmarks']\n",
      "\n",
      "22 \t Architectural Facades\n",
      "['buildings', 'facades', 'architecture', 'houses', 'styles']\n",
      "\n",
      "33 \t Urban Architectural Styles\n",
      "['buildings', 'streets', 'facades', 'urban', 'historical']\n",
      "\n",
      "40 \t Historical Buildings and Landscapes\n",
      "['buildings', 'landscapes', 'ruins', 'villages', 'architecture']\n",
      "\n",
      "49 \t Architectural Facades\n",
      "['buildings', 'facades', 'black-and-white', 'windows', 'roofs']\n",
      "\n",
      "65 \t Construction Site Documentation\n",
      "['construction', 'buildings', 'scaffolding', 'architecture', 'cranes']\n",
      "\n",
      "66 \t Residential Building Exteriors\n",
      "['houses', 'facades', 'rural', 'architecture', 'monochrome']\n",
      "\n",
      "74 \t Rural Landscapes and Settlements\n",
      "['villages', 'fields', 'buildings', 'countryside', 'monochrome']\n",
      "\n",
      "83 \t Urban Architectural Photography\n",
      "['buildings', 'urban', 'facades', 'streets', 'architecture']\n",
      "\n",
      "99 \t Urban and Historical Landscapes\n",
      "['cityscapes', 'architecture', 'historical buildings', 'urban planning', 'rooftops', 'landmarks', 'urban views']\n",
      "\n"
     ]
    }
   ],
   "source": [
    "# Evaluate relevance of chosen clusters by keywords (manually) \n",
    "for i in cluster_info:\n",
    "    if i in relevant_outdoors:\n",
    "        print(i, '\\t', cluster_info[i]['name'])\n",
    "        # print(cluster_info[i]['description'])\n",
    "        print(cluster_info[i]['keywords'])\n",
    "        print()"
   ]
  },
  {
   "cell_type": "code",
   "execution_count": 12,
   "metadata": {},
   "outputs": [],
   "source": [
    "final_clusters = relevant_outdoors"
   ]
  },
  {
   "cell_type": "markdown",
   "metadata": {},
   "source": [
    "EVALUATE RESULT. Seems bullshit\n",
    "Specify system prompt  \n",
    "\n",
    "Maybe **manualy** is better\n",
    "Need:\n",
    "- landscape with nature\n",
    "- exterior and city\n",
    "- interior\n",
    "- people in interior\n",
    "\n",
    "Or maybe choose keywords with code"
   ]
  },
  {
   "cell_type": "markdown",
   "metadata": {},
   "source": [
    "## Concatenate df_MVP and clustering label"
   ]
  },
  {
   "cell_type": "code",
   "execution_count": 13,
   "metadata": {},
   "outputs": [
    {
     "data": {
      "text/plain": [
       "((37185, 5), (36981, 2))"
      ]
     },
     "execution_count": 13,
     "metadata": {},
     "output_type": "execute_result"
    }
   ],
   "source": [
    "df_cluster = pd.read_csv('cluster no = 100  random_state=42/file_clusters_100.csv', sep=';')\n",
    "df_cluster.rename(columns={'File Name': 'file_name', 'Cluster': 'cluster'}, inplace=True)\n",
    "df_cluster['file_name'] = df_cluster['file_name'].apply(lambda x: x.split('.')[0])\n",
    "\n",
    "df_mvp = pd.read_csv('datasets/production/dataset_MVP.csv', sep=';')\n",
    "\n",
    "df_mvp.shape, df_cluster.shape"
   ]
  },
  {
   "cell_type": "code",
   "execution_count": 14,
   "metadata": {},
   "outputs": [
    {
     "name": "stdout",
     "output_type": "stream",
     "text": [
      "(36981, 6)\n"
     ]
    },
    {
     "data": {
      "text/html": [
       "<div>\n",
       "<style scoped>\n",
       "    .dataframe tbody tr th:only-of-type {\n",
       "        vertical-align: middle;\n",
       "    }\n",
       "\n",
       "    .dataframe tbody tr th {\n",
       "        vertical-align: top;\n",
       "    }\n",
       "\n",
       "    .dataframe thead th {\n",
       "        text-align: right;\n",
       "    }\n",
       "</style>\n",
       "<table border=\"1\" class=\"dataframe\">\n",
       "  <thead>\n",
       "    <tr style=\"text-align: right;\">\n",
       "      <th></th>\n",
       "      <th>link</th>\n",
       "      <th>id_objects</th>\n",
       "      <th>labels</th>\n",
       "      <th>file_name</th>\n",
       "      <th>id</th>\n",
       "      <th>cluster</th>\n",
       "    </tr>\n",
       "  </thead>\n",
       "  <tbody>\n",
       "    <tr>\n",
       "      <th>0</th>\n",
       "      <td>http://www.bildindex.de/bilder/d/ae00001b05</td>\n",
       "      <td>['9077']</td>\n",
       "      <td>[1617]</td>\n",
       "      <td>scn-ae00001b05.jpg</td>\n",
       "      <td>ae00001b05</td>\n",
       "      <td>85</td>\n",
       "    </tr>\n",
       "    <tr>\n",
       "      <th>1</th>\n",
       "      <td>http://www.bildindex.de/bilder/d/ae00001b06</td>\n",
       "      <td>['9077']</td>\n",
       "      <td>[1617]</td>\n",
       "      <td>scn-ae00001b06.jpg</td>\n",
       "      <td>ae00001b06</td>\n",
       "      <td>85</td>\n",
       "    </tr>\n",
       "    <tr>\n",
       "      <th>2</th>\n",
       "      <td>http://www.bildindex.de/bilder/d/ae00001b07</td>\n",
       "      <td>['9077']</td>\n",
       "      <td>[1617]</td>\n",
       "      <td>scn-ae00001b07.jpg</td>\n",
       "      <td>ae00001b07</td>\n",
       "      <td>85</td>\n",
       "    </tr>\n",
       "    <tr>\n",
       "      <th>3</th>\n",
       "      <td>http://www.bildindex.de/bilder/d/ae00001b08</td>\n",
       "      <td>['9077']</td>\n",
       "      <td>[1617]</td>\n",
       "      <td>scn-ae00001b08.jpg</td>\n",
       "      <td>ae00001b08</td>\n",
       "      <td>96</td>\n",
       "    </tr>\n",
       "    <tr>\n",
       "      <th>4</th>\n",
       "      <td>http://www.bildindex.de/bilder/d/ae00001b10</td>\n",
       "      <td>['3899']</td>\n",
       "      <td>[3257]</td>\n",
       "      <td>scn-ae00001b10.jpg</td>\n",
       "      <td>ae00001b10</td>\n",
       "      <td>1</td>\n",
       "    </tr>\n",
       "  </tbody>\n",
       "</table>\n",
       "</div>"
      ],
      "text/plain": [
       "                                          link id_objects  labels  \\\n",
       "0  http://www.bildindex.de/bilder/d/ae00001b05   ['9077']  [1617]   \n",
       "1  http://www.bildindex.de/bilder/d/ae00001b06   ['9077']  [1617]   \n",
       "2  http://www.bildindex.de/bilder/d/ae00001b07   ['9077']  [1617]   \n",
       "3  http://www.bildindex.de/bilder/d/ae00001b08   ['9077']  [1617]   \n",
       "4  http://www.bildindex.de/bilder/d/ae00001b10   ['3899']  [3257]   \n",
       "\n",
       "            file_name          id  cluster  \n",
       "0  scn-ae00001b05.jpg  ae00001b05       85  \n",
       "1  scn-ae00001b06.jpg  ae00001b06       85  \n",
       "2  scn-ae00001b07.jpg  ae00001b07       85  \n",
       "3  scn-ae00001b08.jpg  ae00001b08       96  \n",
       "4  scn-ae00001b10.jpg  ae00001b10        1  "
      ]
     },
     "execution_count": 14,
     "metadata": {},
     "output_type": "execute_result"
    }
   ],
   "source": [
    "df = df_mvp.merge(df_cluster, on='file_name', how='left')\n",
    "df.dropna(subset=['cluster'], inplace=True)\n",
    "df['cluster'] = df['cluster'].astype(int)\n",
    "df['file_name'] = df['file_name'].apply(lambda x: x+'.jpg')\n",
    "print(df.shape)\n",
    "df.head()"
   ]
  },
  {
   "cell_type": "markdown",
   "metadata": {},
   "source": [
    "Add `cluster_type` to out dataset with relevant type of cluster (outdoor, indoor etc.)"
   ]
  },
  {
   "cell_type": "code",
   "execution_count": 15,
   "metadata": {},
   "outputs": [],
   "source": [
    "df['cluster_type'] = df['cluster'].apply(lambda x: 'outdoor' if x in relevant_outdoors else 'indoor' if x in relevant_indoor else 'details' if x in relevant_details else 'people' if x in relevant_people else 'notype')"
   ]
  },
  {
   "cell_type": "code",
   "execution_count": 16,
   "metadata": {},
   "outputs": [],
   "source": [
    "# # # df.to_csv('datasets/production/dataset_MVP_clustered.csv', sep=';', index=False)"
   ]
  },
  {
   "cell_type": "markdown",
   "metadata": {},
   "source": [
    "## Choose relevant outdoor images"
   ]
  },
  {
   "cell_type": "code",
   "execution_count": 17,
   "metadata": {},
   "outputs": [
    {
     "name": "stdout",
     "output_type": "stream",
     "text": [
      "Amount images to work with: 6796\n"
     ]
    }
   ],
   "source": [
    "chosen_images_out = df[df.cluster.isin(final_clusters)].file_name.tolist()\n",
    "print('Amount images to work with:', len(chosen_images_out))\n",
    "\n",
    "# if not os.path.exists('images/images_outdoor_compressed'):\n",
    "#     os.makedirs('images/images_outdoor_compressed')\n",
    "\n",
    "# for image in chosen_images_out:\n",
    "#     shutil.copy('images/images_compressed/' + image, 'images/images_outdoor_compressed/' + image)"
   ]
  },
  {
   "cell_type": "code",
   "execution_count": 18,
   "metadata": {},
   "outputs": [],
   "source": [
    "# # Save as csv\n",
    "# # #df[df.cluster.isin(final_clusters)].to_csv('datasets/production/outdoor_images.csv', sep=';', index=False)"
   ]
  },
  {
   "cell_type": "code",
   "execution_count": null,
   "metadata": {},
   "outputs": [],
   "source": []
  },
  {
   "cell_type": "markdown",
   "metadata": {},
   "source": [
    "## Creating MVP dataset for clusters info"
   ]
  },
  {
   "cell_type": "code",
   "execution_count": 19,
   "metadata": {},
   "outputs": [
    {
     "name": "stdout",
     "output_type": "stream",
     "text": [
      "NaN values in clusters: 0\n",
      "Size of clusters dataframe: (100, 4)\n"
     ]
    },
    {
     "data": {
      "text/html": [
       "<div>\n",
       "<style scoped>\n",
       "    .dataframe tbody tr th:only-of-type {\n",
       "        vertical-align: middle;\n",
       "    }\n",
       "\n",
       "    .dataframe tbody tr th {\n",
       "        vertical-align: top;\n",
       "    }\n",
       "\n",
       "    .dataframe thead th {\n",
       "        text-align: right;\n",
       "    }\n",
       "</style>\n",
       "<table border=\"1\" class=\"dataframe\">\n",
       "  <thead>\n",
       "    <tr style=\"text-align: right;\">\n",
       "      <th></th>\n",
       "      <th>cluster_id</th>\n",
       "      <th>name</th>\n",
       "      <th>keywords</th>\n",
       "      <th>description</th>\n",
       "    </tr>\n",
       "  </thead>\n",
       "  <tbody>\n",
       "    <tr>\n",
       "      <th>0</th>\n",
       "      <td>0</td>\n",
       "      <td>Architectural Archways</td>\n",
       "      <td>arches, domes, interiors, bridges, structures</td>\n",
       "      <td>The visualization consists of a large collecti...</td>\n",
       "    </tr>\n",
       "    <tr>\n",
       "      <th>1</th>\n",
       "      <td>1</td>\n",
       "      <td>Historical Landscape Prints</td>\n",
       "      <td>landscapes, black-and-white, mountains, archit...</td>\n",
       "      <td>The visualization features a grid layout of nu...</td>\n",
       "    </tr>\n",
       "    <tr>\n",
       "      <th>2</th>\n",
       "      <td>2</td>\n",
       "      <td>Industrial and Transport Imagery</td>\n",
       "      <td>vehicles, infrastructure, ships, machinery, co...</td>\n",
       "      <td>The visualization contains a collection of bla...</td>\n",
       "    </tr>\n",
       "    <tr>\n",
       "      <th>3</th>\n",
       "      <td>3</td>\n",
       "      <td>Interior Architectural Spaces</td>\n",
       "      <td>rooms, furniture, windows, arches, lighting</td>\n",
       "      <td>This visualization displays a structured colle...</td>\n",
       "    </tr>\n",
       "    <tr>\n",
       "      <th>4</th>\n",
       "      <td>4</td>\n",
       "      <td>Black-and-White Landscapes</td>\n",
       "      <td>mountains, towns, rivers, architecture, valleys</td>\n",
       "      <td>The visualization comprises a collection of bl...</td>\n",
       "    </tr>\n",
       "  </tbody>\n",
       "</table>\n",
       "</div>"
      ],
      "text/plain": [
       "   cluster_id                              name  \\\n",
       "0           0            Architectural Archways   \n",
       "1           1       Historical Landscape Prints   \n",
       "2           2  Industrial and Transport Imagery   \n",
       "3           3     Interior Architectural Spaces   \n",
       "4           4        Black-and-White Landscapes   \n",
       "\n",
       "                                            keywords  \\\n",
       "0      arches, domes, interiors, bridges, structures   \n",
       "1  landscapes, black-and-white, mountains, archit...   \n",
       "2  vehicles, infrastructure, ships, machinery, co...   \n",
       "3        rooms, furniture, windows, arches, lighting   \n",
       "4    mountains, towns, rivers, architecture, valleys   \n",
       "\n",
       "                                         description  \n",
       "0  The visualization consists of a large collecti...  \n",
       "1  The visualization features a grid layout of nu...  \n",
       "2  The visualization contains a collection of bla...  \n",
       "3  This visualization displays a structured colle...  \n",
       "4  The visualization comprises a collection of bl...  "
      ]
     },
     "execution_count": 19,
     "metadata": {},
     "output_type": "execute_result"
    }
   ],
   "source": [
    "df_clusters = pd.DataFrame(columns=['cluster_id', 'name', 'keywords', 'description'])\n",
    "df_clusters['cluster_id'] = cluster_info.keys()\n",
    "df_clusters['name'] = [cluster['name'] for cluster in cluster_info.values()]\n",
    "df_clusters['keywords'] = [(', ').join(cluster['keywords']) for cluster in cluster_info.values()]\n",
    "df_clusters['description'] = [cluster['description'] for cluster in cluster_info.values()]\n",
    "\n",
    "print('NaN values in clusters:', df_clusters.isna().sum().sum())\n",
    "print('Size of clusters dataframe:', df_clusters.shape)\n",
    "\n",
    "df_clusters.head()"
   ]
  },
  {
   "cell_type": "code",
   "execution_count": 21,
   "metadata": {},
   "outputs": [],
   "source": [
    "# df_clusters.to_csv('datasets/production/MVP_clusters_info.csv', sep=';', index=False)"
   ]
  },
  {
   "cell_type": "markdown",
   "metadata": {},
   "source": [
    "## Mild changes in dataset_CLEAN.csv\n",
    "Somehow I storaged labels as text, but here I substitude it with label_id from `dataset_labels.csv`"
   ]
  },
  {
   "cell_type": "code",
   "execution_count": 126,
   "metadata": {},
   "outputs": [
    {
     "data": {
      "text/html": [
       "<div>\n",
       "<style scoped>\n",
       "    .dataframe tbody tr th:only-of-type {\n",
       "        vertical-align: middle;\n",
       "    }\n",
       "\n",
       "    .dataframe tbody tr th {\n",
       "        vertical-align: top;\n",
       "    }\n",
       "\n",
       "    .dataframe thead th {\n",
       "        text-align: right;\n",
       "    }\n",
       "</style>\n",
       "<table border=\"1\" class=\"dataframe\">\n",
       "  <thead>\n",
       "    <tr style=\"text-align: right;\">\n",
       "      <th></th>\n",
       "      <th>id_record</th>\n",
       "      <th>id_persistent</th>\n",
       "      <th>label</th>\n",
       "      <th>image_links</th>\n",
       "      <th>archive_links</th>\n",
       "      <th>microfiche_links</th>\n",
       "      <th>microfiche_archive_links</th>\n",
       "    </tr>\n",
       "  </thead>\n",
       "  <tbody>\n",
       "    <tr>\n",
       "      <th>0</th>\n",
       "      <td>http://www.bildindex.de/document/obj20666124</td>\n",
       "      <td>http://id.bildindex.de/thing/0001618283</td>\n",
       "      <td>Lauenhain (Kreis Hainichen), Fahnenträger eine...</td>\n",
       "      <td>[]</td>\n",
       "      <td>[]</td>\n",
       "      <td>['http://www.bildindex.de/bilder/d/mi12308g07']</td>\n",
       "      <td>['https://www.bildindex.de/media/obj20666124/m...</td>\n",
       "    </tr>\n",
       "    <tr>\n",
       "      <th>1</th>\n",
       "      <td>http://www.bildindex.de/document/obj20727600</td>\n",
       "      <td>http://id.bildindex.de/thing/0001677732</td>\n",
       "      <td>Fenster (Bauelement)</td>\n",
       "      <td>['http://www.bildindex.de/bilder/d/fm140030']</td>\n",
       "      <td>['https://www.bildindex.de/media/obj20727600/f...</td>\n",
       "      <td>['http://www.bildindex.de/bilder/d/mi02117a05'...</td>\n",
       "      <td>['https://www.bildindex.de/media/obj20727600/m...</td>\n",
       "    </tr>\n",
       "    <tr>\n",
       "      <th>2</th>\n",
       "      <td>http://www.bildindex.de/document/obj20943303</td>\n",
       "      <td>http://id.bildindex.de/thing/0001803584</td>\n",
       "      <td>Kassel, Infanteriekasernen an der Königsstraße...</td>\n",
       "      <td>['http://www.bildindex.de/bilder/d/STMP_II_110...</td>\n",
       "      <td>['https://www.bildindex.de/media/obj20943303/S...</td>\n",
       "      <td>[]</td>\n",
       "      <td>[]</td>\n",
       "    </tr>\n",
       "  </tbody>\n",
       "</table>\n",
       "</div>"
      ],
      "text/plain": [
       "                                      id_record  \\\n",
       "0  http://www.bildindex.de/document/obj20666124   \n",
       "1  http://www.bildindex.de/document/obj20727600   \n",
       "2  http://www.bildindex.de/document/obj20943303   \n",
       "\n",
       "                             id_persistent  \\\n",
       "0  http://id.bildindex.de/thing/0001618283   \n",
       "1  http://id.bildindex.de/thing/0001677732   \n",
       "2  http://id.bildindex.de/thing/0001803584   \n",
       "\n",
       "                                               label  \\\n",
       "0  Lauenhain (Kreis Hainichen), Fahnenträger eine...   \n",
       "1                               Fenster (Bauelement)   \n",
       "2  Kassel, Infanteriekasernen an der Königsstraße...   \n",
       "\n",
       "                                         image_links  \\\n",
       "0                                                 []   \n",
       "1      ['http://www.bildindex.de/bilder/d/fm140030']   \n",
       "2  ['http://www.bildindex.de/bilder/d/STMP_II_110...   \n",
       "\n",
       "                                       archive_links  \\\n",
       "0                                                 []   \n",
       "1  ['https://www.bildindex.de/media/obj20727600/f...   \n",
       "2  ['https://www.bildindex.de/media/obj20943303/S...   \n",
       "\n",
       "                                    microfiche_links  \\\n",
       "0    ['http://www.bildindex.de/bilder/d/mi12308g07']   \n",
       "1  ['http://www.bildindex.de/bilder/d/mi02117a05'...   \n",
       "2                                                 []   \n",
       "\n",
       "                            microfiche_archive_links  \n",
       "0  ['https://www.bildindex.de/media/obj20666124/m...  \n",
       "1  ['https://www.bildindex.de/media/obj20727600/m...  \n",
       "2                                                 []  "
      ]
     },
     "execution_count": 126,
     "metadata": {},
     "output_type": "execute_result"
    }
   ],
   "source": [
    "df_clean = pd.read_csv('datasets/production/dataset_CLEAN.csv', sep=';')\n",
    "df_labels = pd.read_csv('datasets/production/dataset_labels.csv', sep=';')\n",
    "df_clean.head(3)"
   ]
  },
  {
   "cell_type": "code",
   "execution_count": 127,
   "metadata": {},
   "outputs": [
    {
     "data": {
      "text/html": [
       "<div>\n",
       "<style scoped>\n",
       "    .dataframe tbody tr th:only-of-type {\n",
       "        vertical-align: middle;\n",
       "    }\n",
       "\n",
       "    .dataframe tbody tr th {\n",
       "        vertical-align: top;\n",
       "    }\n",
       "\n",
       "    .dataframe thead th {\n",
       "        text-align: right;\n",
       "    }\n",
       "</style>\n",
       "<table border=\"1\" class=\"dataframe\">\n",
       "  <thead>\n",
       "    <tr style=\"text-align: right;\">\n",
       "      <th></th>\n",
       "      <th>id_record</th>\n",
       "      <th>id_persistent</th>\n",
       "      <th>label_id</th>\n",
       "      <th>image_links</th>\n",
       "      <th>archive_links</th>\n",
       "      <th>microfiche_links</th>\n",
       "      <th>microfiche_archive_links</th>\n",
       "    </tr>\n",
       "  </thead>\n",
       "  <tbody>\n",
       "    <tr>\n",
       "      <th>0</th>\n",
       "      <td>http://www.bildindex.de/document/obj20666124</td>\n",
       "      <td>http://id.bildindex.de/thing/0001618283</td>\n",
       "      <td>0</td>\n",
       "      <td>[]</td>\n",
       "      <td>[]</td>\n",
       "      <td>['http://www.bildindex.de/bilder/d/mi12308g07']</td>\n",
       "      <td>['https://www.bildindex.de/media/obj20666124/m...</td>\n",
       "    </tr>\n",
       "    <tr>\n",
       "      <th>1</th>\n",
       "      <td>http://www.bildindex.de/document/obj20727600</td>\n",
       "      <td>http://id.bildindex.de/thing/0001677732</td>\n",
       "      <td>1</td>\n",
       "      <td>['http://www.bildindex.de/bilder/d/fm140030']</td>\n",
       "      <td>['https://www.bildindex.de/media/obj20727600/f...</td>\n",
       "      <td>['http://www.bildindex.de/bilder/d/mi02117a05'...</td>\n",
       "      <td>['https://www.bildindex.de/media/obj20727600/m...</td>\n",
       "    </tr>\n",
       "    <tr>\n",
       "      <th>2</th>\n",
       "      <td>http://www.bildindex.de/document/obj20943303</td>\n",
       "      <td>http://id.bildindex.de/thing/0001803584</td>\n",
       "      <td>2</td>\n",
       "      <td>['http://www.bildindex.de/bilder/d/STMP_II_110...</td>\n",
       "      <td>['https://www.bildindex.de/media/obj20943303/S...</td>\n",
       "      <td>[]</td>\n",
       "      <td>[]</td>\n",
       "    </tr>\n",
       "  </tbody>\n",
       "</table>\n",
       "</div>"
      ],
      "text/plain": [
       "                                      id_record  \\\n",
       "0  http://www.bildindex.de/document/obj20666124   \n",
       "1  http://www.bildindex.de/document/obj20727600   \n",
       "2  http://www.bildindex.de/document/obj20943303   \n",
       "\n",
       "                             id_persistent  label_id  \\\n",
       "0  http://id.bildindex.de/thing/0001618283         0   \n",
       "1  http://id.bildindex.de/thing/0001677732         1   \n",
       "2  http://id.bildindex.de/thing/0001803584         2   \n",
       "\n",
       "                                         image_links  \\\n",
       "0                                                 []   \n",
       "1      ['http://www.bildindex.de/bilder/d/fm140030']   \n",
       "2  ['http://www.bildindex.de/bilder/d/STMP_II_110...   \n",
       "\n",
       "                                       archive_links  \\\n",
       "0                                                 []   \n",
       "1  ['https://www.bildindex.de/media/obj20727600/f...   \n",
       "2  ['https://www.bildindex.de/media/obj20943303/S...   \n",
       "\n",
       "                                    microfiche_links  \\\n",
       "0    ['http://www.bildindex.de/bilder/d/mi12308g07']   \n",
       "1  ['http://www.bildindex.de/bilder/d/mi02117a05'...   \n",
       "2                                                 []   \n",
       "\n",
       "                            microfiche_archive_links  \n",
       "0  ['https://www.bildindex.de/media/obj20666124/m...  \n",
       "1  ['https://www.bildindex.de/media/obj20727600/m...  \n",
       "2                                                 []  "
      ]
     },
     "execution_count": 127,
     "metadata": {},
     "output_type": "execute_result"
    }
   ],
   "source": [
    "df_clean = df_clean.merge(df_labels, on='label', how='left')\n",
    "df_clean['label'] = df_clean['id']\n",
    "df_clean.rename(columns={'label': 'label_id'}, inplace=True)\n",
    "df_clean = df_clean.drop(columns=['id'])\n",
    "df_clean.head(3)"
   ]
  },
  {
   "cell_type": "code",
   "execution_count": 128,
   "metadata": {},
   "outputs": [],
   "source": [
    "### df_clean.to_csv('datasets/production/dataset_CLEAN_UPDATED.csv', sep=';', index=False)"
   ]
  },
  {
   "cell_type": "code",
   "execution_count": null,
   "metadata": {},
   "outputs": [],
   "source": []
  },
  {
   "cell_type": "code",
   "execution_count": null,
   "metadata": {},
   "outputs": [],
   "source": []
  }
 ],
 "metadata": {
  "kernelspec": {
   "display_name": "Python 3",
   "language": "python",
   "name": "python3"
  },
  "language_info": {
   "codemirror_mode": {
    "name": "ipython",
    "version": 3
   },
   "file_extension": ".py",
   "mimetype": "text/x-python",
   "name": "python",
   "nbconvert_exporter": "python",
   "pygments_lexer": "ipython3",
   "version": "3.9.6"
  }
 },
 "nbformat": 4,
 "nbformat_minor": 2
}
